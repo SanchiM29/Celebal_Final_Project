{
 "cells": [
  {
   "cell_type": "code",
   "execution_count": 0,
   "metadata": {
    "application/vnd.databricks.v1+cell": {
     "cellMetadata": {
      "byteLimit": 2048000,
      "rowLimit": 10000
     },
     "inputWidgets": {},
     "nuid": "bc3d4a24-a7de-4d78-9318-73a57f3ca031",
     "showTitle": false,
     "tableResultSettingsMap": {},
     "title": ""
    }
   },
   "outputs": [
    {
     "output_type": "display_data",
     "data": {
      "text/html": [
       "<style scoped>\n",
       "  .ansiout {\n",
       "    display: block;\n",
       "    unicode-bidi: embed;\n",
       "    white-space: pre-wrap;\n",
       "    word-wrap: break-word;\n",
       "    word-break: break-all;\n",
       "    font-family: \"Menlo\", \"Monaco\", \"Consolas\", \"Ubuntu Mono\", \"Source Code Pro\", monospace;\n",
       "    font-size: 13px;\n",
       "    color: #555;\n",
       "    margin-left: 4px;\n",
       "    line-height: 19px;\n",
       "  }\n",
       "</style>\n",
       "<div class=\"ansiout\">Order table CDC extraction complete.\n",
       "Customer table CDC extraction complete.\n",
       "Product table CDC extraction complete.\n",
       "Inventory table CDC extraction complete.\n",
       "</div>"
      ]
     },
     "metadata": {
      "application/vnd.databricks.v1+output": {
       "addedWidgets": {},
       "arguments": {},
       "data": "<div class=\"ansiout\">Order table CDC extraction complete.\nCustomer table CDC extraction complete.\nProduct table CDC extraction complete.\nInventory table CDC extraction complete.\n</div>",
       "datasetInfos": [],
       "metadata": {},
       "removedWidgets": [],
       "type": "html"
      }
     },
     "output_type": "display_data"
    }
   ],
   "source": [
    "# Import required libraries\n",
    "from pyspark.sql.functions import col\n",
    "from datetime import datetime\n",
    "\n",
    "# Define JDBC connection parameters\n",
    "jdbc_url = \"jdbc:sqlserver://sanchi-cdc-server.database.windows.net:1433;database=RetailCDC_Jaipur\"\n",
    "jdbc_properties = {\n",
    "    \"user\": \"sqladmin\",\n",
    "    \"password\": \"Sanjal@12345\",\n",
    "    \"driver\": \"com.microsoft.sqlserver.jdbc.SQLServerDriver\"\n",
    "}\n",
    "\n",
    "# ====== Order Table ======\n",
    "try:\n",
    "    df_order = spark.read.format(\"jdbc\") \\\n",
    "        .option(\"url\", jdbc_url) \\\n",
    "        .option(\"dbtable\", \"[dbo].[Order]\") \\\n",
    "        .option(\"user\", jdbc_properties[\"user\"]) \\\n",
    "        .option(\"password\", jdbc_properties[\"password\"]) \\\n",
    "        .option(\"driver\", jdbc_properties[\"driver\"]) \\\n",
    "        .load()\n",
    "\n",
    "    df_order_cdc = df_order.filter(col(\"OrderDate\") >= \"2025-07-16\")\n",
    "    output_path_order = \"dbfs:/CDC_output/order_\" + datetime.now().strftime(\"%Y%m%d_%H%M\") + \".parquet\"\n",
    "    df_order_cdc.write.mode(\"overwrite\").parquet(output_path_order)\n",
    "    print(\"Order table CDC extraction complete.\")\n",
    "except Exception as e:\n",
    "    print(f\"Order Error: {e}\")\n",
    "\n",
    "# ====== Customer Table ======\n",
    "try:\n",
    "    df_customer = spark.read.format(\"jdbc\") \\\n",
    "        .option(\"url\", jdbc_url) \\\n",
    "        .option(\"dbtable\", \"[dbo].[Customer]\") \\\n",
    "        .option(\"user\", jdbc_properties[\"user\"]) \\\n",
    "        .option(\"password\", jdbc_properties[\"password\"]) \\\n",
    "        .option(\"driver\", jdbc_properties[\"driver\"]) \\\n",
    "        .load()\n",
    "\n",
    "    output_path_customer = \"dbfs:/CDC_output/customer_\" + datetime.now().strftime(\"%Y%m%d_%H%M\") + \".parquet\"\n",
    "    df_customer.write.mode(\"overwrite\").parquet(output_path_customer)\n",
    "    print(\"Customer table CDC extraction complete.\")\n",
    "except Exception as e:\n",
    "    print(f\"Customer Error: {e}\")\n",
    "\n",
    "# ====== Product Table ======\n",
    "try:\n",
    "    df_product = spark.read.format(\"jdbc\") \\\n",
    "        .option(\"url\", jdbc_url) \\\n",
    "        .option(\"dbtable\", \"[dbo].[Product]\") \\\n",
    "        .option(\"user\", jdbc_properties[\"user\"]) \\\n",
    "        .option(\"password\", jdbc_properties[\"password\"]) \\\n",
    "        .option(\"driver\", jdbc_properties[\"driver\"]) \\\n",
    "        .load()\n",
    "\n",
    "    output_path_product = \"dbfs:/CDC_output/product_\" + datetime.now().strftime(\"%Y%m%d_%H%M\") + \".parquet\"\n",
    "    df_product.write.mode(\"overwrite\").parquet(output_path_product)\n",
    "    print(\"Product table CDC extraction complete.\")\n",
    "except Exception as e:\n",
    "    print(f\"Product Error: {e}\")\n",
    "\n",
    "# ====== Inventory Table ======\n",
    "try:\n",
    "    df_inventory = spark.read.format(\"jdbc\") \\\n",
    "        .option(\"url\", jdbc_url) \\\n",
    "        .option(\"dbtable\", \"[dbo].[Inventory]\") \\\n",
    "        .option(\"user\", jdbc_properties[\"user\"]) \\\n",
    "        .option(\"password\", jdbc_properties[\"password\"]) \\\n",
    "        .option(\"driver\", jdbc_properties[\"driver\"]) \\\n",
    "        .load()\n",
    "\n",
    "    output_path_inventory = \"dbfs:/CDC_output/inventory_\" + datetime.now().strftime(\"%Y%m%d_%H%M\") + \".parquet\"\n",
    "    df_inventory.write.mode(\"overwrite\").parquet(output_path_inventory)\n",
    "    print(\"Inventory table CDC extraction complete.\")\n",
    "except Exception as e:\n",
    "    print(f\"Inventory Error: {e}\")"
   ]
  },
  {
   "cell_type": "code",
   "execution_count": 0,
   "metadata": {
    "application/vnd.databricks.v1+cell": {
     "cellMetadata": {
      "byteLimit": 2048000,
      "rowLimit": 10000
     },
     "inputWidgets": {},
     "nuid": "f2384c7f-5f87-470a-9f72-87087ef157f4",
     "showTitle": false,
     "tableResultSettingsMap": {},
     "title": ""
    }
   },
   "outputs": [
    {
     "output_type": "display_data",
     "data": {
      "text/html": [
       "<style scoped>\n",
       "  .table-result-container {\n",
       "    max-height: 300px;\n",
       "    overflow: auto;\n",
       "  }\n",
       "  table, th, td {\n",
       "    border: 1px solid black;\n",
       "    border-collapse: collapse;\n",
       "  }\n",
       "  th, td {\n",
       "    padding: 5px;\n",
       "  }\n",
       "  th {\n",
       "    text-align: left;\n",
       "  }\n",
       "</style><div class='table-result-container'><table class='table-result'><thead style='background-color: white'><tr><th>path</th><th>name</th><th>size</th><th>modificationTime</th></tr></thead><tbody><tr><td>dbfs:/CDC_output/customer_20250717_0935.parquet/</td><td>customer_20250717_0935.parquet/</td><td>0</td><td>1752744901000</td></tr><tr><td>dbfs:/CDC_output/customer_20250717_0956.parquet/</td><td>customer_20250717_0956.parquet/</td><td>0</td><td>1752746163000</td></tr><tr><td>dbfs:/CDC_output/customer_20250717_1008.parquet/</td><td>customer_20250717_1008.parquet/</td><td>0</td><td>1752746889000</td></tr><tr><td>dbfs:/CDC_output/customer_20250717_1039.parquet/</td><td>customer_20250717_1039.parquet/</td><td>0</td><td>1752748797000</td></tr><tr><td>dbfs:/CDC_output/customer_20250717_1055.parquet/</td><td>customer_20250717_1055.parquet/</td><td>0</td><td>1752749717000</td></tr><tr><td>dbfs:/CDC_output/customer_20250717_1109.parquet/</td><td>customer_20250717_1109.parquet/</td><td>0</td><td>1752750587000</td></tr><tr><td>dbfs:/CDC_output/customer_20250717_1126.parquet/</td><td>customer_20250717_1126.parquet/</td><td>0</td><td>1752751582000</td></tr><tr><td>dbfs:/CDC_output/customer_20250717_1132.parquet/</td><td>customer_20250717_1132.parquet/</td><td>0</td><td>1752751930000</td></tr><tr><td>dbfs:/CDC_output/customer_20250717_1145.parquet/</td><td>customer_20250717_1145.parquet/</td><td>0</td><td>1752752712000</td></tr><tr><td>dbfs:/CDC_output/customer_20250717_1252.parquet/</td><td>customer_20250717_1252.parquet/</td><td>0</td><td>1752756735000</td></tr><tr><td>dbfs:/CDC_output/customer_20250717_1253.parquet/</td><td>customer_20250717_1253.parquet/</td><td>0</td><td>1752756786000</td></tr><tr><td>dbfs:/CDC_output/customer_20250717_1254.parquet/</td><td>customer_20250717_1254.parquet/</td><td>0</td><td>1752756843000</td></tr><tr><td>dbfs:/CDC_output/customer_20250717_1256.parquet/</td><td>customer_20250717_1256.parquet/</td><td>0</td><td>1752756997000</td></tr><tr><td>dbfs:/CDC_output/customer_20250717_1555.parquet/</td><td>customer_20250717_1555.parquet/</td><td>0</td><td>1752767759000</td></tr><tr><td>dbfs:/CDC_output/customer_20250717_1556.parquet/</td><td>customer_20250717_1556.parquet/</td><td>0</td><td>1752767769000</td></tr><tr><td>dbfs:/CDC_output/customer_20250717_1604.parquet/</td><td>customer_20250717_1604.parquet/</td><td>0</td><td>1752768271000</td></tr><tr><td>dbfs:/CDC_output/customer_20250717_1605.parquet/</td><td>customer_20250717_1605.parquet/</td><td>0</td><td>1752768315000</td></tr><tr><td>dbfs:/CDC_output/customer_20250717_1610.parquet/</td><td>customer_20250717_1610.parquet/</td><td>0</td><td>1752751729000</td></tr><tr><td>dbfs:/CDC_output/customer_20250717_1727.parquet/</td><td>customer_20250717_1727.parquet/</td><td>0</td><td>1752773252000</td></tr><tr><td>dbfs:/CDC_output/inventory_20250717_0935.parquet/</td><td>inventory_20250717_0935.parquet/</td><td>0</td><td>1752744903000</td></tr><tr><td>dbfs:/CDC_output/inventory_20250717_0956.parquet/</td><td>inventory_20250717_0956.parquet/</td><td>0</td><td>1752746165000</td></tr><tr><td>dbfs:/CDC_output/inventory_20250717_1008.parquet/</td><td>inventory_20250717_1008.parquet/</td><td>0</td><td>1752746891000</td></tr><tr><td>dbfs:/CDC_output/inventory_20250717_1039.parquet/</td><td>inventory_20250717_1039.parquet/</td><td>0</td><td>1752748799000</td></tr><tr><td>dbfs:/CDC_output/inventory_20250717_1055.parquet/</td><td>inventory_20250717_1055.parquet/</td><td>0</td><td>1752749719000</td></tr><tr><td>dbfs:/CDC_output/inventory_20250717_1109.parquet/</td><td>inventory_20250717_1109.parquet/</td><td>0</td><td>1752750589000</td></tr><tr><td>dbfs:/CDC_output/inventory_20250717_1127.parquet/</td><td>inventory_20250717_1127.parquet/</td><td>0</td><td>1752751668000</td></tr><tr><td>dbfs:/CDC_output/inventory_20250717_1132.parquet/</td><td>inventory_20250717_1132.parquet/</td><td>0</td><td>1752751972000</td></tr><tr><td>dbfs:/CDC_output/inventory_20250717_1145.parquet/</td><td>inventory_20250717_1145.parquet/</td><td>0</td><td>1752752713000</td></tr><tr><td>dbfs:/CDC_output/inventory_20250717_1250.parquet/</td><td>inventory_20250717_1250.parquet/</td><td>0</td><td>1752756621000</td></tr><tr><td>dbfs:/CDC_output/inventory_20250717_1252.parquet/</td><td>inventory_20250717_1252.parquet/</td><td>0</td><td>1752756737000</td></tr><tr><td>dbfs:/CDC_output/inventory_20250717_1253.parquet/</td><td>inventory_20250717_1253.parquet/</td><td>0</td><td>1752756788000</td></tr><tr><td>dbfs:/CDC_output/inventory_20250717_1254.parquet/</td><td>inventory_20250717_1254.parquet/</td><td>0</td><td>1752756845000</td></tr><tr><td>dbfs:/CDC_output/inventory_20250717_1256.parquet/</td><td>inventory_20250717_1256.parquet/</td><td>0</td><td>1752756999000</td></tr><tr><td>dbfs:/CDC_output/inventory_20250717_1350.parquet/</td><td>inventory_20250717_1350.parquet/</td><td>0</td><td>1752760213000</td></tr><tr><td>dbfs:/CDC_output/inventory_20250717_1450.parquet/</td><td>inventory_20250717_1450.parquet/</td><td>0</td><td>1752763812000</td></tr><tr><td>dbfs:/CDC_output/inventory_20250717_1547.parquet/</td><td>inventory_20250717_1547.parquet/</td><td>0</td><td>1752767240000</td></tr><tr><td>dbfs:/CDC_output/inventory_20250717_1556.parquet/</td><td>inventory_20250717_1556.parquet/</td><td>0</td><td>1752767761000</td></tr><tr><td>dbfs:/CDC_output/inventory_20250717_1604.parquet/</td><td>inventory_20250717_1604.parquet/</td><td>0</td><td>1752768272000</td></tr><tr><td>dbfs:/CDC_output/inventory_20250717_1605.parquet/</td><td>inventory_20250717_1605.parquet/</td><td>0</td><td>1752768316000</td></tr><tr><td>dbfs:/CDC_output/inventory_20250717_1650.parquet/</td><td>inventory_20250717_1650.parquet/</td><td>0</td><td>1752771013000</td></tr><tr><td>dbfs:/CDC_output/inventory_20250717_1727.parquet/</td><td>inventory_20250717_1727.parquet/</td><td>0</td><td>1752773230000</td></tr><tr><td>dbfs:/CDC_output/inventory_20250717_<time>.parquet/</td><td>inventory_20250717_<time>.parquet/</td><td>0</td><td>1752751746000</td></tr><tr><td>dbfs:/CDC_output/order_20250717_0926.parquet/</td><td>order_20250717_0926.parquet/</td><td>0</td><td>1752744413000</td></tr><tr><td>dbfs:/CDC_output/order_20250717_0935.parquet/</td><td>order_20250717_0935.parquet/</td><td>0</td><td>1752744900000</td></tr><tr><td>dbfs:/CDC_output/order_20250717_0955.parquet/</td><td>order_20250717_0955.parquet/</td><td>0</td><td>1752746156000</td></tr><tr><td>dbfs:/CDC_output/order_20250717_0956.parquet/</td><td>order_20250717_0956.parquet/</td><td>0</td><td>1752746163000</td></tr><tr><td>dbfs:/CDC_output/order_20250717_1008.parquet/</td><td>order_20250717_1008.parquet/</td><td>0</td><td>1752746889000</td></tr><tr><td>dbfs:/CDC_output/order_20250717_1039.parquet/</td><td>order_20250717_1039.parquet/</td><td>0</td><td>1752748795000</td></tr><tr><td>dbfs:/CDC_output/order_20250717_1055.parquet/</td><td>order_20250717_1055.parquet/</td><td>0</td><td>1752749714000</td></tr><tr><td>dbfs:/CDC_output/order_20250717_1109.parquet/</td><td>order_20250717_1109.parquet/</td><td>0</td><td>1752750584000</td></tr><tr><td>dbfs:/CDC_output/order_20250717_1120.parquet/</td><td>order_20250717_1120.parquet/</td><td>0</td><td>1752751253000</td></tr><tr><td>dbfs:/CDC_output/order_20250717_1145.parquet/</td><td>order_20250717_1145.parquet/</td><td>0</td><td>1752752711000</td></tr><tr><td>dbfs:/CDC_output/order_20250717_1252.parquet/</td><td>order_20250717_1252.parquet/</td><td>0</td><td>1752756734000</td></tr><tr><td>dbfs:/CDC_output/order_20250717_1253.parquet/</td><td>order_20250717_1253.parquet/</td><td>0</td><td>1752756786000</td></tr><tr><td>dbfs:/CDC_output/order_20250717_1254.parquet/</td><td>order_20250717_1254.parquet/</td><td>0</td><td>1752756842000</td></tr><tr><td>dbfs:/CDC_output/order_20250717_1256.parquet/</td><td>order_20250717_1256.parquet/</td><td>0</td><td>1752756996000</td></tr><tr><td>dbfs:/CDC_output/order_20250717_1555.parquet/</td><td>order_20250717_1555.parquet/</td><td>0</td><td>1752767758000</td></tr><tr><td>dbfs:/CDC_output/order_20250717_1556.parquet/</td><td>order_20250717_1556.parquet/</td><td>0</td><td>1752767775000</td></tr><tr><td>dbfs:/CDC_output/order_20250717_1604.parquet/</td><td>order_20250717_1604.parquet/</td><td>0</td><td>1752768270000</td></tr><tr><td>dbfs:/CDC_output/order_20250717_1605.parquet/</td><td>order_20250717_1605.parquet/</td><td>0</td><td>1752768315000</td></tr><tr><td>dbfs:/CDC_output/order_20250717_1610.parquet/</td><td>order_20250717_1610.parquet/</td><td>0</td><td>1752748922000</td></tr><tr><td>dbfs:/CDC_output/order_20250717_1727.parquet/</td><td>order_20250717_1727.parquet/</td><td>0</td><td>1752773251000</td></tr><tr><td>dbfs:/CDC_output/order_20250717_<time>.parquet/</td><td>order_20250717_<time>.parquet/</td><td>0</td><td>1752750888000</td></tr><tr><td>dbfs:/CDC_output/product_20250717_0935.parquet/</td><td>product_20250717_0935.parquet/</td><td>0</td><td>1752744902000</td></tr><tr><td>dbfs:/CDC_output/product_20250717_0956.parquet/</td><td>product_20250717_0956.parquet/</td><td>0</td><td>1752746164000</td></tr><tr><td>dbfs:/CDC_output/product_20250717_1008.parquet/</td><td>product_20250717_1008.parquet/</td><td>0</td><td>1752746890000</td></tr><tr><td>dbfs:/CDC_output/product_20250717_1039.parquet/</td><td>product_20250717_1039.parquet/</td><td>0</td><td>1752748798000</td></tr><tr><td>dbfs:/CDC_output/product_20250717_1055.parquet/</td><td>product_20250717_1055.parquet/</td><td>0</td><td>1752749718000</td></tr><tr><td>dbfs:/CDC_output/product_20250717_1109.parquet/</td><td>product_20250717_1109.parquet/</td><td>0</td><td>1752750588000</td></tr><tr><td>dbfs:/CDC_output/product_20250717_1124.parquet/</td><td>product_20250717_1124.parquet/</td><td>0</td><td>1752751496000</td></tr><tr><td>dbfs:/CDC_output/product_20250717_1132.parquet/</td><td>product_20250717_1132.parquet/</td><td>0</td><td>1752751933000</td></tr><tr><td>dbfs:/CDC_output/product_20250717_1135.parquet/</td><td>product_20250717_1135.parquet/</td><td>0</td><td>1752752148000</td></tr><tr><td>dbfs:/CDC_output/product_20250717_1145.parquet/</td><td>product_20250717_1145.parquet/</td><td>0</td><td>1752752712000</td></tr><tr><td>dbfs:/CDC_output/product_20250717_1250.parquet/</td><td>product_20250717_1250.parquet/</td><td>0</td><td>1752756618000</td></tr><tr><td>dbfs:/CDC_output/product_20250717_1252.parquet/</td><td>product_20250717_1252.parquet/</td><td>0</td><td>1752756735000</td></tr><tr><td>dbfs:/CDC_output/product_20250717_1253.parquet/</td><td>product_20250717_1253.parquet/</td><td>0</td><td>1752756787000</td></tr><tr><td>dbfs:/CDC_output/product_20250717_1254.parquet/</td><td>product_20250717_1254.parquet/</td><td>0</td><td>1752756844000</td></tr><tr><td>dbfs:/CDC_output/product_20250717_1256.parquet/</td><td>product_20250717_1256.parquet/</td><td>0</td><td>1752756998000</td></tr><tr><td>dbfs:/CDC_output/product_20250717_1556.parquet/</td><td>product_20250717_1556.parquet/</td><td>0</td><td>1752767760000</td></tr><tr><td>dbfs:/CDC_output/product_20250717_1604.parquet/</td><td>product_20250717_1604.parquet/</td><td>0</td><td>1752768271000</td></tr><tr><td>dbfs:/CDC_output/product_20250717_1605.parquet/</td><td>product_20250717_1605.parquet/</td><td>0</td><td>1752768316000</td></tr><tr><td>dbfs:/CDC_output/product_20250717_1650.parquet/</td><td>product_20250717_1650.parquet/</td><td>0</td><td>1752771009000</td></tr><tr><td>dbfs:/CDC_output/product_20250717_1727.parquet/</td><td>product_20250717_1727.parquet/</td><td>0</td><td>1752773253000</td></tr><tr><td>dbfs:/CDC_output/product_20250717_<time>.parquet/</td><td>product_20250717_<time>.parquet/</td><td>0</td><td>1752751738000</td></tr></tbody></table></div>"
      ]
     },
     "metadata": {
      "application/vnd.databricks.v1+output": {
       "addedWidgets": {},
       "aggData": [],
       "aggError": "",
       "aggOverflow": false,
       "aggSchema": [],
       "aggSeriesLimitReached": false,
       "aggType": "",
       "arguments": {},
       "columnCustomDisplayInfos": {},
       "data": [
        [
         "dbfs:/CDC_output/customer_20250717_0935.parquet/",
         "customer_20250717_0935.parquet/",
         0,
         1752744901000
        ],
        [
         "dbfs:/CDC_output/customer_20250717_0956.parquet/",
         "customer_20250717_0956.parquet/",
         0,
         1752746163000
        ],
        [
         "dbfs:/CDC_output/customer_20250717_1008.parquet/",
         "customer_20250717_1008.parquet/",
         0,
         1752746889000
        ],
        [
         "dbfs:/CDC_output/customer_20250717_1039.parquet/",
         "customer_20250717_1039.parquet/",
         0,
         1752748797000
        ],
        [
         "dbfs:/CDC_output/customer_20250717_1055.parquet/",
         "customer_20250717_1055.parquet/",
         0,
         1752749717000
        ],
        [
         "dbfs:/CDC_output/customer_20250717_1109.parquet/",
         "customer_20250717_1109.parquet/",
         0,
         1752750587000
        ],
        [
         "dbfs:/CDC_output/customer_20250717_1126.parquet/",
         "customer_20250717_1126.parquet/",
         0,
         1752751582000
        ],
        [
         "dbfs:/CDC_output/customer_20250717_1132.parquet/",
         "customer_20250717_1132.parquet/",
         0,
         1752751930000
        ],
        [
         "dbfs:/CDC_output/customer_20250717_1145.parquet/",
         "customer_20250717_1145.parquet/",
         0,
         1752752712000
        ],
        [
         "dbfs:/CDC_output/customer_20250717_1252.parquet/",
         "customer_20250717_1252.parquet/",
         0,
         1752756735000
        ],
        [
         "dbfs:/CDC_output/customer_20250717_1253.parquet/",
         "customer_20250717_1253.parquet/",
         0,
         1752756786000
        ],
        [
         "dbfs:/CDC_output/customer_20250717_1254.parquet/",
         "customer_20250717_1254.parquet/",
         0,
         1752756843000
        ],
        [
         "dbfs:/CDC_output/customer_20250717_1256.parquet/",
         "customer_20250717_1256.parquet/",
         0,
         1752756997000
        ],
        [
         "dbfs:/CDC_output/customer_20250717_1555.parquet/",
         "customer_20250717_1555.parquet/",
         0,
         1752767759000
        ],
        [
         "dbfs:/CDC_output/customer_20250717_1556.parquet/",
         "customer_20250717_1556.parquet/",
         0,
         1752767769000
        ],
        [
         "dbfs:/CDC_output/customer_20250717_1604.parquet/",
         "customer_20250717_1604.parquet/",
         0,
         1752768271000
        ],
        [
         "dbfs:/CDC_output/customer_20250717_1605.parquet/",
         "customer_20250717_1605.parquet/",
         0,
         1752768315000
        ],
        [
         "dbfs:/CDC_output/customer_20250717_1610.parquet/",
         "customer_20250717_1610.parquet/",
         0,
         1752751729000
        ],
        [
         "dbfs:/CDC_output/customer_20250717_1727.parquet/",
         "customer_20250717_1727.parquet/",
         0,
         1752773252000
        ],
        [
         "dbfs:/CDC_output/inventory_20250717_0935.parquet/",
         "inventory_20250717_0935.parquet/",
         0,
         1752744903000
        ],
        [
         "dbfs:/CDC_output/inventory_20250717_0956.parquet/",
         "inventory_20250717_0956.parquet/",
         0,
         1752746165000
        ],
        [
         "dbfs:/CDC_output/inventory_20250717_1008.parquet/",
         "inventory_20250717_1008.parquet/",
         0,
         1752746891000
        ],
        [
         "dbfs:/CDC_output/inventory_20250717_1039.parquet/",
         "inventory_20250717_1039.parquet/",
         0,
         1752748799000
        ],
        [
         "dbfs:/CDC_output/inventory_20250717_1055.parquet/",
         "inventory_20250717_1055.parquet/",
         0,
         1752749719000
        ],
        [
         "dbfs:/CDC_output/inventory_20250717_1109.parquet/",
         "inventory_20250717_1109.parquet/",
         0,
         1752750589000
        ],
        [
         "dbfs:/CDC_output/inventory_20250717_1127.parquet/",
         "inventory_20250717_1127.parquet/",
         0,
         1752751668000
        ],
        [
         "dbfs:/CDC_output/inventory_20250717_1132.parquet/",
         "inventory_20250717_1132.parquet/",
         0,
         1752751972000
        ],
        [
         "dbfs:/CDC_output/inventory_20250717_1145.parquet/",
         "inventory_20250717_1145.parquet/",
         0,
         1752752713000
        ],
        [
         "dbfs:/CDC_output/inventory_20250717_1250.parquet/",
         "inventory_20250717_1250.parquet/",
         0,
         1752756621000
        ],
        [
         "dbfs:/CDC_output/inventory_20250717_1252.parquet/",
         "inventory_20250717_1252.parquet/",
         0,
         1752756737000
        ],
        [
         "dbfs:/CDC_output/inventory_20250717_1253.parquet/",
         "inventory_20250717_1253.parquet/",
         0,
         1752756788000
        ],
        [
         "dbfs:/CDC_output/inventory_20250717_1254.parquet/",
         "inventory_20250717_1254.parquet/",
         0,
         1752756845000
        ],
        [
         "dbfs:/CDC_output/inventory_20250717_1256.parquet/",
         "inventory_20250717_1256.parquet/",
         0,
         1752756999000
        ],
        [
         "dbfs:/CDC_output/inventory_20250717_1350.parquet/",
         "inventory_20250717_1350.parquet/",
         0,
         1752760213000
        ],
        [
         "dbfs:/CDC_output/inventory_20250717_1450.parquet/",
         "inventory_20250717_1450.parquet/",
         0,
         1752763812000
        ],
        [
         "dbfs:/CDC_output/inventory_20250717_1547.parquet/",
         "inventory_20250717_1547.parquet/",
         0,
         1752767240000
        ],
        [
         "dbfs:/CDC_output/inventory_20250717_1556.parquet/",
         "inventory_20250717_1556.parquet/",
         0,
         1752767761000
        ],
        [
         "dbfs:/CDC_output/inventory_20250717_1604.parquet/",
         "inventory_20250717_1604.parquet/",
         0,
         1752768272000
        ],
        [
         "dbfs:/CDC_output/inventory_20250717_1605.parquet/",
         "inventory_20250717_1605.parquet/",
         0,
         1752768316000
        ],
        [
         "dbfs:/CDC_output/inventory_20250717_1650.parquet/",
         "inventory_20250717_1650.parquet/",
         0,
         1752771013000
        ],
        [
         "dbfs:/CDC_output/inventory_20250717_1727.parquet/",
         "inventory_20250717_1727.parquet/",
         0,
         1752773230000
        ],
        [
         "dbfs:/CDC_output/inventory_20250717_<time>.parquet/",
         "inventory_20250717_<time>.parquet/",
         0,
         1752751746000
        ],
        [
         "dbfs:/CDC_output/order_20250717_0926.parquet/",
         "order_20250717_0926.parquet/",
         0,
         1752744413000
        ],
        [
         "dbfs:/CDC_output/order_20250717_0935.parquet/",
         "order_20250717_0935.parquet/",
         0,
         1752744900000
        ],
        [
         "dbfs:/CDC_output/order_20250717_0955.parquet/",
         "order_20250717_0955.parquet/",
         0,
         1752746156000
        ],
        [
         "dbfs:/CDC_output/order_20250717_0956.parquet/",
         "order_20250717_0956.parquet/",
         0,
         1752746163000
        ],
        [
         "dbfs:/CDC_output/order_20250717_1008.parquet/",
         "order_20250717_1008.parquet/",
         0,
         1752746889000
        ],
        [
         "dbfs:/CDC_output/order_20250717_1039.parquet/",
         "order_20250717_1039.parquet/",
         0,
         1752748795000
        ],
        [
         "dbfs:/CDC_output/order_20250717_1055.parquet/",
         "order_20250717_1055.parquet/",
         0,
         1752749714000
        ],
        [
         "dbfs:/CDC_output/order_20250717_1109.parquet/",
         "order_20250717_1109.parquet/",
         0,
         1752750584000
        ],
        [
         "dbfs:/CDC_output/order_20250717_1120.parquet/",
         "order_20250717_1120.parquet/",
         0,
         1752751253000
        ],
        [
         "dbfs:/CDC_output/order_20250717_1145.parquet/",
         "order_20250717_1145.parquet/",
         0,
         1752752711000
        ],
        [
         "dbfs:/CDC_output/order_20250717_1252.parquet/",
         "order_20250717_1252.parquet/",
         0,
         1752756734000
        ],
        [
         "dbfs:/CDC_output/order_20250717_1253.parquet/",
         "order_20250717_1253.parquet/",
         0,
         1752756786000
        ],
        [
         "dbfs:/CDC_output/order_20250717_1254.parquet/",
         "order_20250717_1254.parquet/",
         0,
         1752756842000
        ],
        [
         "dbfs:/CDC_output/order_20250717_1256.parquet/",
         "order_20250717_1256.parquet/",
         0,
         1752756996000
        ],
        [
         "dbfs:/CDC_output/order_20250717_1555.parquet/",
         "order_20250717_1555.parquet/",
         0,
         1752767758000
        ],
        [
         "dbfs:/CDC_output/order_20250717_1556.parquet/",
         "order_20250717_1556.parquet/",
         0,
         1752767775000
        ],
        [
         "dbfs:/CDC_output/order_20250717_1604.parquet/",
         "order_20250717_1604.parquet/",
         0,
         1752768270000
        ],
        [
         "dbfs:/CDC_output/order_20250717_1605.parquet/",
         "order_20250717_1605.parquet/",
         0,
         1752768315000
        ],
        [
         "dbfs:/CDC_output/order_20250717_1610.parquet/",
         "order_20250717_1610.parquet/",
         0,
         1752748922000
        ],
        [
         "dbfs:/CDC_output/order_20250717_1727.parquet/",
         "order_20250717_1727.parquet/",
         0,
         1752773251000
        ],
        [
         "dbfs:/CDC_output/order_20250717_<time>.parquet/",
         "order_20250717_<time>.parquet/",
         0,
         1752750888000
        ],
        [
         "dbfs:/CDC_output/product_20250717_0935.parquet/",
         "product_20250717_0935.parquet/",
         0,
         1752744902000
        ],
        [
         "dbfs:/CDC_output/product_20250717_0956.parquet/",
         "product_20250717_0956.parquet/",
         0,
         1752746164000
        ],
        [
         "dbfs:/CDC_output/product_20250717_1008.parquet/",
         "product_20250717_1008.parquet/",
         0,
         1752746890000
        ],
        [
         "dbfs:/CDC_output/product_20250717_1039.parquet/",
         "product_20250717_1039.parquet/",
         0,
         1752748798000
        ],
        [
         "dbfs:/CDC_output/product_20250717_1055.parquet/",
         "product_20250717_1055.parquet/",
         0,
         1752749718000
        ],
        [
         "dbfs:/CDC_output/product_20250717_1109.parquet/",
         "product_20250717_1109.parquet/",
         0,
         1752750588000
        ],
        [
         "dbfs:/CDC_output/product_20250717_1124.parquet/",
         "product_20250717_1124.parquet/",
         0,
         1752751496000
        ],
        [
         "dbfs:/CDC_output/product_20250717_1132.parquet/",
         "product_20250717_1132.parquet/",
         0,
         1752751933000
        ],
        [
         "dbfs:/CDC_output/product_20250717_1135.parquet/",
         "product_20250717_1135.parquet/",
         0,
         1752752148000
        ],
        [
         "dbfs:/CDC_output/product_20250717_1145.parquet/",
         "product_20250717_1145.parquet/",
         0,
         1752752712000
        ],
        [
         "dbfs:/CDC_output/product_20250717_1250.parquet/",
         "product_20250717_1250.parquet/",
         0,
         1752756618000
        ],
        [
         "dbfs:/CDC_output/product_20250717_1252.parquet/",
         "product_20250717_1252.parquet/",
         0,
         1752756735000
        ],
        [
         "dbfs:/CDC_output/product_20250717_1253.parquet/",
         "product_20250717_1253.parquet/",
         0,
         1752756787000
        ],
        [
         "dbfs:/CDC_output/product_20250717_1254.parquet/",
         "product_20250717_1254.parquet/",
         0,
         1752756844000
        ],
        [
         "dbfs:/CDC_output/product_20250717_1256.parquet/",
         "product_20250717_1256.parquet/",
         0,
         1752756998000
        ],
        [
         "dbfs:/CDC_output/product_20250717_1556.parquet/",
         "product_20250717_1556.parquet/",
         0,
         1752767760000
        ],
        [
         "dbfs:/CDC_output/product_20250717_1604.parquet/",
         "product_20250717_1604.parquet/",
         0,
         1752768271000
        ],
        [
         "dbfs:/CDC_output/product_20250717_1605.parquet/",
         "product_20250717_1605.parquet/",
         0,
         1752768316000
        ],
        [
         "dbfs:/CDC_output/product_20250717_1650.parquet/",
         "product_20250717_1650.parquet/",
         0,
         1752771009000
        ],
        [
         "dbfs:/CDC_output/product_20250717_1727.parquet/",
         "product_20250717_1727.parquet/",
         0,
         1752773253000
        ],
        [
         "dbfs:/CDC_output/product_20250717_<time>.parquet/",
         "product_20250717_<time>.parquet/",
         0,
         1752751738000
        ]
       ],
       "datasetInfos": [],
       "dbfsResultPath": null,
       "isJsonSchema": true,
       "metadata": {},
       "overflow": false,
       "plotOptions": {
        "customPlotOptions": {},
        "displayType": "table",
        "pivotAggregation": null,
        "pivotColumns": null,
        "xColumns": null,
        "yColumns": null
       },
       "removedWidgets": [],
       "schema": [
        {
         "metadata": "{}",
         "name": "path",
         "type": "\"string\""
        },
        {
         "metadata": "{}",
         "name": "name",
         "type": "\"string\""
        },
        {
         "metadata": "{}",
         "name": "size",
         "type": "\"long\""
        },
        {
         "metadata": "{}",
         "name": "modificationTime",
         "type": "\"long\""
        }
       ],
       "type": "table"
      }
     },
     "output_type": "display_data"
    }
   ],
   "source": [
    "display(dbutils.fs.ls(\"dbfs:/CDC_output/\"))"
   ]
  },
  {
   "cell_type": "code",
   "execution_count": 0,
   "metadata": {
    "application/vnd.databricks.v1+cell": {
     "cellMetadata": {
      "byteLimit": 2048000,
      "rowLimit": 10000
     },
     "inputWidgets": {},
     "nuid": "88a92770-5ce1-4bbb-af36-884c9bc82778",
     "showTitle": false,
     "tableResultSettingsMap": {},
     "title": ""
    }
   },
   "outputs": [
    {
     "output_type": "display_data",
     "data": {
      "text/html": [
       "<style scoped>\n",
       "  .ansiout {\n",
       "    display: block;\n",
       "    unicode-bidi: embed;\n",
       "    white-space: pre-wrap;\n",
       "    word-wrap: break-word;\n",
       "    word-break: break-all;\n",
       "    font-family: \"Menlo\", \"Monaco\", \"Consolas\", \"Ubuntu Mono\", \"Source Code Pro\", monospace;\n",
       "    font-size: 13px;\n",
       "    color: #555;\n",
       "    margin-left: 4px;\n",
       "    line-height: 19px;\n",
       "  }\n",
       "</style>\n",
       "<div class=\"ansiout\">Order count: 2\n",
       "+-------------------+\n",
       "          OrderDate|\n",
       "+-------------------+\n",
       "2025-07-17 00:00:00|\n",
       "2025-07-17 00:00:00|\n",
       "+-------------------+\n",
       "\n",
       "</div>"
      ]
     },
     "metadata": {
      "application/vnd.databricks.v1+output": {
       "addedWidgets": {},
       "arguments": {},
       "data": "<div class=\"ansiout\">Order count: 2\n+-------------------+\n|          OrderDate|\n+-------------------+\n|2025-07-17 00:00:00|\n|2025-07-17 00:00:00|\n+-------------------+\n\n</div>",
       "datasetInfos": [],
       "metadata": {},
       "removedWidgets": [],
       "type": "html"
      }
     },
     "output_type": "display_data"
    }
   ],
   "source": [
    "print(\"Order count:\", df_order.count())\n",
    "df_order.select(\"OrderDate\").show(5)"
   ]
  },
  {
   "cell_type": "code",
   "execution_count": 0,
   "metadata": {
    "application/vnd.databricks.v1+cell": {
     "cellMetadata": {
      "byteLimit": 2048000,
      "rowLimit": 10000
     },
     "inputWidgets": {},
     "nuid": "57b669e9-4fb9-4b80-a872-c3cccff371fb",
     "showTitle": false,
     "tableResultSettingsMap": {},
     "title": ""
    }
   },
   "outputs": [
    {
     "output_type": "display_data",
     "data": {
      "text/html": [
       "<style scoped>\n",
       "  .ansiout {\n",
       "    display: block;\n",
       "    unicode-bidi: embed;\n",
       "    white-space: pre-wrap;\n",
       "    word-wrap: break-word;\n",
       "    word-break: break-all;\n",
       "    font-family: \"Menlo\", \"Monaco\", \"Consolas\", \"Ubuntu Mono\", \"Source Code Pro\", monospace;\n",
       "    font-size: 13px;\n",
       "    color: #555;\n",
       "    margin-left: 4px;\n",
       "    line-height: 19px;\n",
       "  }\n",
       "</style>\n",
       "<div class=\"ansiout\">Order count: 2\n",
       "Customer count: 2\n",
       "Product count: 2\n",
       "Inventory count: 2\n",
       "</div>"
      ]
     },
     "metadata": {
      "application/vnd.databricks.v1+output": {
       "addedWidgets": {},
       "arguments": {},
       "data": "<div class=\"ansiout\">Order count: 2\nCustomer count: 2\nProduct count: 2\nInventory count: 2\n</div>",
       "datasetInfos": [],
       "metadata": {},
       "removedWidgets": [],
       "type": "html"
      }
     },
     "output_type": "display_data"
    }
   ],
   "source": [
    "print(\"Order count:\", df_order.count())\n",
    "print(\"Customer count:\", df_customer.count())\n",
    "print(\"Product count:\", df_product.count())\n",
    "print(\"Inventory count:\", df_inventory.count())"
   ]
  },
  {
   "cell_type": "code",
   "execution_count": 0,
   "metadata": {
    "application/vnd.databricks.v1+cell": {
     "cellMetadata": {
      "byteLimit": 2048000,
      "rowLimit": 10000
     },
     "inputWidgets": {},
     "nuid": "de871c70-c0d7-4c13-b326-4208ed0559f8",
     "showTitle": false,
     "tableResultSettingsMap": {},
     "title": ""
    }
   },
   "outputs": [
    {
     "output_type": "display_data",
     "data": {
      "text/html": [
       "<style scoped>\n",
       "  .table-result-container {\n",
       "    max-height: 300px;\n",
       "    overflow: auto;\n",
       "  }\n",
       "  table, th, td {\n",
       "    border: 1px solid black;\n",
       "    border-collapse: collapse;\n",
       "  }\n",
       "  th, td {\n",
       "    padding: 5px;\n",
       "  }\n",
       "  th {\n",
       "    text-align: left;\n",
       "  }\n",
       "</style><div class='table-result-container'><table class='table-result'><thead style='background-color: white'><tr><th>path</th><th>name</th><th>size</th><th>modificationTime</th></tr></thead><tbody><tr><td>dbfs:/CDC_output/customer_20250717_0935.parquet/</td><td>customer_20250717_0935.parquet/</td><td>0</td><td>1752744901000</td></tr><tr><td>dbfs:/CDC_output/customer_20250717_0956.parquet/</td><td>customer_20250717_0956.parquet/</td><td>0</td><td>1752746163000</td></tr><tr><td>dbfs:/CDC_output/customer_20250717_1008.parquet/</td><td>customer_20250717_1008.parquet/</td><td>0</td><td>1752746889000</td></tr><tr><td>dbfs:/CDC_output/customer_20250717_1039.parquet/</td><td>customer_20250717_1039.parquet/</td><td>0</td><td>1752748797000</td></tr><tr><td>dbfs:/CDC_output/customer_20250717_1055.parquet/</td><td>customer_20250717_1055.parquet/</td><td>0</td><td>1752749717000</td></tr><tr><td>dbfs:/CDC_output/customer_20250717_1109.parquet/</td><td>customer_20250717_1109.parquet/</td><td>0</td><td>1752750587000</td></tr><tr><td>dbfs:/CDC_output/customer_20250717_1126.parquet/</td><td>customer_20250717_1126.parquet/</td><td>0</td><td>1752751582000</td></tr><tr><td>dbfs:/CDC_output/customer_20250717_1132.parquet/</td><td>customer_20250717_1132.parquet/</td><td>0</td><td>1752751930000</td></tr><tr><td>dbfs:/CDC_output/customer_20250717_1145.parquet/</td><td>customer_20250717_1145.parquet/</td><td>0</td><td>1752752712000</td></tr><tr><td>dbfs:/CDC_output/customer_20250717_1252.parquet/</td><td>customer_20250717_1252.parquet/</td><td>0</td><td>1752756735000</td></tr><tr><td>dbfs:/CDC_output/customer_20250717_1253.parquet/</td><td>customer_20250717_1253.parquet/</td><td>0</td><td>1752756786000</td></tr><tr><td>dbfs:/CDC_output/customer_20250717_1254.parquet/</td><td>customer_20250717_1254.parquet/</td><td>0</td><td>1752756843000</td></tr><tr><td>dbfs:/CDC_output/customer_20250717_1256.parquet/</td><td>customer_20250717_1256.parquet/</td><td>0</td><td>1752756997000</td></tr><tr><td>dbfs:/CDC_output/customer_20250717_1555.parquet/</td><td>customer_20250717_1555.parquet/</td><td>0</td><td>1752767759000</td></tr><tr><td>dbfs:/CDC_output/customer_20250717_1556.parquet/</td><td>customer_20250717_1556.parquet/</td><td>0</td><td>1752767769000</td></tr><tr><td>dbfs:/CDC_output/customer_20250717_1604.parquet/</td><td>customer_20250717_1604.parquet/</td><td>0</td><td>1752768271000</td></tr><tr><td>dbfs:/CDC_output/customer_20250717_1605.parquet/</td><td>customer_20250717_1605.parquet/</td><td>0</td><td>1752768315000</td></tr><tr><td>dbfs:/CDC_output/customer_20250717_1610.parquet/</td><td>customer_20250717_1610.parquet/</td><td>0</td><td>1752751729000</td></tr><tr><td>dbfs:/CDC_output/customer_20250717_1727.parquet/</td><td>customer_20250717_1727.parquet/</td><td>0</td><td>1752773252000</td></tr><tr><td>dbfs:/CDC_output/inventory_20250717_0935.parquet/</td><td>inventory_20250717_0935.parquet/</td><td>0</td><td>1752744903000</td></tr><tr><td>dbfs:/CDC_output/inventory_20250717_0956.parquet/</td><td>inventory_20250717_0956.parquet/</td><td>0</td><td>1752746165000</td></tr><tr><td>dbfs:/CDC_output/inventory_20250717_1008.parquet/</td><td>inventory_20250717_1008.parquet/</td><td>0</td><td>1752746891000</td></tr><tr><td>dbfs:/CDC_output/inventory_20250717_1039.parquet/</td><td>inventory_20250717_1039.parquet/</td><td>0</td><td>1752748799000</td></tr><tr><td>dbfs:/CDC_output/inventory_20250717_1055.parquet/</td><td>inventory_20250717_1055.parquet/</td><td>0</td><td>1752749719000</td></tr><tr><td>dbfs:/CDC_output/inventory_20250717_1109.parquet/</td><td>inventory_20250717_1109.parquet/</td><td>0</td><td>1752750589000</td></tr><tr><td>dbfs:/CDC_output/inventory_20250717_1127.parquet/</td><td>inventory_20250717_1127.parquet/</td><td>0</td><td>1752751668000</td></tr><tr><td>dbfs:/CDC_output/inventory_20250717_1132.parquet/</td><td>inventory_20250717_1132.parquet/</td><td>0</td><td>1752751972000</td></tr><tr><td>dbfs:/CDC_output/inventory_20250717_1145.parquet/</td><td>inventory_20250717_1145.parquet/</td><td>0</td><td>1752752713000</td></tr><tr><td>dbfs:/CDC_output/inventory_20250717_1250.parquet/</td><td>inventory_20250717_1250.parquet/</td><td>0</td><td>1752756621000</td></tr><tr><td>dbfs:/CDC_output/inventory_20250717_1252.parquet/</td><td>inventory_20250717_1252.parquet/</td><td>0</td><td>1752756737000</td></tr><tr><td>dbfs:/CDC_output/inventory_20250717_1253.parquet/</td><td>inventory_20250717_1253.parquet/</td><td>0</td><td>1752756788000</td></tr><tr><td>dbfs:/CDC_output/inventory_20250717_1254.parquet/</td><td>inventory_20250717_1254.parquet/</td><td>0</td><td>1752756845000</td></tr><tr><td>dbfs:/CDC_output/inventory_20250717_1256.parquet/</td><td>inventory_20250717_1256.parquet/</td><td>0</td><td>1752756999000</td></tr><tr><td>dbfs:/CDC_output/inventory_20250717_1350.parquet/</td><td>inventory_20250717_1350.parquet/</td><td>0</td><td>1752760213000</td></tr><tr><td>dbfs:/CDC_output/inventory_20250717_1450.parquet/</td><td>inventory_20250717_1450.parquet/</td><td>0</td><td>1752763812000</td></tr><tr><td>dbfs:/CDC_output/inventory_20250717_1547.parquet/</td><td>inventory_20250717_1547.parquet/</td><td>0</td><td>1752767240000</td></tr><tr><td>dbfs:/CDC_output/inventory_20250717_1556.parquet/</td><td>inventory_20250717_1556.parquet/</td><td>0</td><td>1752767761000</td></tr><tr><td>dbfs:/CDC_output/inventory_20250717_1604.parquet/</td><td>inventory_20250717_1604.parquet/</td><td>0</td><td>1752768272000</td></tr><tr><td>dbfs:/CDC_output/inventory_20250717_1605.parquet/</td><td>inventory_20250717_1605.parquet/</td><td>0</td><td>1752768316000</td></tr><tr><td>dbfs:/CDC_output/inventory_20250717_1650.parquet/</td><td>inventory_20250717_1650.parquet/</td><td>0</td><td>1752771013000</td></tr><tr><td>dbfs:/CDC_output/inventory_20250717_1727.parquet/</td><td>inventory_20250717_1727.parquet/</td><td>0</td><td>1752773230000</td></tr><tr><td>dbfs:/CDC_output/inventory_20250717_<time>.parquet/</td><td>inventory_20250717_<time>.parquet/</td><td>0</td><td>1752751746000</td></tr><tr><td>dbfs:/CDC_output/order_20250717_0926.parquet/</td><td>order_20250717_0926.parquet/</td><td>0</td><td>1752744413000</td></tr><tr><td>dbfs:/CDC_output/order_20250717_0935.parquet/</td><td>order_20250717_0935.parquet/</td><td>0</td><td>1752744900000</td></tr><tr><td>dbfs:/CDC_output/order_20250717_0955.parquet/</td><td>order_20250717_0955.parquet/</td><td>0</td><td>1752746156000</td></tr><tr><td>dbfs:/CDC_output/order_20250717_0956.parquet/</td><td>order_20250717_0956.parquet/</td><td>0</td><td>1752746163000</td></tr><tr><td>dbfs:/CDC_output/order_20250717_1008.parquet/</td><td>order_20250717_1008.parquet/</td><td>0</td><td>1752746889000</td></tr><tr><td>dbfs:/CDC_output/order_20250717_1039.parquet/</td><td>order_20250717_1039.parquet/</td><td>0</td><td>1752748795000</td></tr><tr><td>dbfs:/CDC_output/order_20250717_1055.parquet/</td><td>order_20250717_1055.parquet/</td><td>0</td><td>1752749714000</td></tr><tr><td>dbfs:/CDC_output/order_20250717_1109.parquet/</td><td>order_20250717_1109.parquet/</td><td>0</td><td>1752750584000</td></tr><tr><td>dbfs:/CDC_output/order_20250717_1120.parquet/</td><td>order_20250717_1120.parquet/</td><td>0</td><td>1752751253000</td></tr><tr><td>dbfs:/CDC_output/order_20250717_1145.parquet/</td><td>order_20250717_1145.parquet/</td><td>0</td><td>1752752711000</td></tr><tr><td>dbfs:/CDC_output/order_20250717_1252.parquet/</td><td>order_20250717_1252.parquet/</td><td>0</td><td>1752756734000</td></tr><tr><td>dbfs:/CDC_output/order_20250717_1253.parquet/</td><td>order_20250717_1253.parquet/</td><td>0</td><td>1752756786000</td></tr><tr><td>dbfs:/CDC_output/order_20250717_1254.parquet/</td><td>order_20250717_1254.parquet/</td><td>0</td><td>1752756842000</td></tr><tr><td>dbfs:/CDC_output/order_20250717_1256.parquet/</td><td>order_20250717_1256.parquet/</td><td>0</td><td>1752756996000</td></tr><tr><td>dbfs:/CDC_output/order_20250717_1555.parquet/</td><td>order_20250717_1555.parquet/</td><td>0</td><td>1752767758000</td></tr><tr><td>dbfs:/CDC_output/order_20250717_1556.parquet/</td><td>order_20250717_1556.parquet/</td><td>0</td><td>1752767775000</td></tr><tr><td>dbfs:/CDC_output/order_20250717_1604.parquet/</td><td>order_20250717_1604.parquet/</td><td>0</td><td>1752768270000</td></tr><tr><td>dbfs:/CDC_output/order_20250717_1605.parquet/</td><td>order_20250717_1605.parquet/</td><td>0</td><td>1752768315000</td></tr><tr><td>dbfs:/CDC_output/order_20250717_1610.parquet/</td><td>order_20250717_1610.parquet/</td><td>0</td><td>1752748922000</td></tr><tr><td>dbfs:/CDC_output/order_20250717_1727.parquet/</td><td>order_20250717_1727.parquet/</td><td>0</td><td>1752773251000</td></tr><tr><td>dbfs:/CDC_output/order_20250717_<time>.parquet/</td><td>order_20250717_<time>.parquet/</td><td>0</td><td>1752750888000</td></tr><tr><td>dbfs:/CDC_output/product_20250717_0935.parquet/</td><td>product_20250717_0935.parquet/</td><td>0</td><td>1752744902000</td></tr><tr><td>dbfs:/CDC_output/product_20250717_0956.parquet/</td><td>product_20250717_0956.parquet/</td><td>0</td><td>1752746164000</td></tr><tr><td>dbfs:/CDC_output/product_20250717_1008.parquet/</td><td>product_20250717_1008.parquet/</td><td>0</td><td>1752746890000</td></tr><tr><td>dbfs:/CDC_output/product_20250717_1039.parquet/</td><td>product_20250717_1039.parquet/</td><td>0</td><td>1752748798000</td></tr><tr><td>dbfs:/CDC_output/product_20250717_1055.parquet/</td><td>product_20250717_1055.parquet/</td><td>0</td><td>1752749718000</td></tr><tr><td>dbfs:/CDC_output/product_20250717_1109.parquet/</td><td>product_20250717_1109.parquet/</td><td>0</td><td>1752750588000</td></tr><tr><td>dbfs:/CDC_output/product_20250717_1124.parquet/</td><td>product_20250717_1124.parquet/</td><td>0</td><td>1752751496000</td></tr><tr><td>dbfs:/CDC_output/product_20250717_1132.parquet/</td><td>product_20250717_1132.parquet/</td><td>0</td><td>1752751933000</td></tr><tr><td>dbfs:/CDC_output/product_20250717_1135.parquet/</td><td>product_20250717_1135.parquet/</td><td>0</td><td>1752752148000</td></tr><tr><td>dbfs:/CDC_output/product_20250717_1145.parquet/</td><td>product_20250717_1145.parquet/</td><td>0</td><td>1752752712000</td></tr><tr><td>dbfs:/CDC_output/product_20250717_1250.parquet/</td><td>product_20250717_1250.parquet/</td><td>0</td><td>1752756618000</td></tr><tr><td>dbfs:/CDC_output/product_20250717_1252.parquet/</td><td>product_20250717_1252.parquet/</td><td>0</td><td>1752756735000</td></tr><tr><td>dbfs:/CDC_output/product_20250717_1253.parquet/</td><td>product_20250717_1253.parquet/</td><td>0</td><td>1752756787000</td></tr><tr><td>dbfs:/CDC_output/product_20250717_1254.parquet/</td><td>product_20250717_1254.parquet/</td><td>0</td><td>1752756844000</td></tr><tr><td>dbfs:/CDC_output/product_20250717_1256.parquet/</td><td>product_20250717_1256.parquet/</td><td>0</td><td>1752756998000</td></tr><tr><td>dbfs:/CDC_output/product_20250717_1556.parquet/</td><td>product_20250717_1556.parquet/</td><td>0</td><td>1752767760000</td></tr><tr><td>dbfs:/CDC_output/product_20250717_1604.parquet/</td><td>product_20250717_1604.parquet/</td><td>0</td><td>1752768271000</td></tr><tr><td>dbfs:/CDC_output/product_20250717_1605.parquet/</td><td>product_20250717_1605.parquet/</td><td>0</td><td>1752768316000</td></tr><tr><td>dbfs:/CDC_output/product_20250717_1650.parquet/</td><td>product_20250717_1650.parquet/</td><td>0</td><td>1752771009000</td></tr><tr><td>dbfs:/CDC_output/product_20250717_1727.parquet/</td><td>product_20250717_1727.parquet/</td><td>0</td><td>1752773253000</td></tr><tr><td>dbfs:/CDC_output/product_20250717_<time>.parquet/</td><td>product_20250717_<time>.parquet/</td><td>0</td><td>1752751738000</td></tr></tbody></table></div>"
      ]
     },
     "metadata": {
      "application/vnd.databricks.v1+output": {
       "addedWidgets": {},
       "aggData": [],
       "aggError": "",
       "aggOverflow": false,
       "aggSchema": [],
       "aggSeriesLimitReached": false,
       "aggType": "",
       "arguments": {},
       "columnCustomDisplayInfos": {},
       "data": [
        [
         "dbfs:/CDC_output/customer_20250717_0935.parquet/",
         "customer_20250717_0935.parquet/",
         0,
         1752744901000
        ],
        [
         "dbfs:/CDC_output/customer_20250717_0956.parquet/",
         "customer_20250717_0956.parquet/",
         0,
         1752746163000
        ],
        [
         "dbfs:/CDC_output/customer_20250717_1008.parquet/",
         "customer_20250717_1008.parquet/",
         0,
         1752746889000
        ],
        [
         "dbfs:/CDC_output/customer_20250717_1039.parquet/",
         "customer_20250717_1039.parquet/",
         0,
         1752748797000
        ],
        [
         "dbfs:/CDC_output/customer_20250717_1055.parquet/",
         "customer_20250717_1055.parquet/",
         0,
         1752749717000
        ],
        [
         "dbfs:/CDC_output/customer_20250717_1109.parquet/",
         "customer_20250717_1109.parquet/",
         0,
         1752750587000
        ],
        [
         "dbfs:/CDC_output/customer_20250717_1126.parquet/",
         "customer_20250717_1126.parquet/",
         0,
         1752751582000
        ],
        [
         "dbfs:/CDC_output/customer_20250717_1132.parquet/",
         "customer_20250717_1132.parquet/",
         0,
         1752751930000
        ],
        [
         "dbfs:/CDC_output/customer_20250717_1145.parquet/",
         "customer_20250717_1145.parquet/",
         0,
         1752752712000
        ],
        [
         "dbfs:/CDC_output/customer_20250717_1252.parquet/",
         "customer_20250717_1252.parquet/",
         0,
         1752756735000
        ],
        [
         "dbfs:/CDC_output/customer_20250717_1253.parquet/",
         "customer_20250717_1253.parquet/",
         0,
         1752756786000
        ],
        [
         "dbfs:/CDC_output/customer_20250717_1254.parquet/",
         "customer_20250717_1254.parquet/",
         0,
         1752756843000
        ],
        [
         "dbfs:/CDC_output/customer_20250717_1256.parquet/",
         "customer_20250717_1256.parquet/",
         0,
         1752756997000
        ],
        [
         "dbfs:/CDC_output/customer_20250717_1555.parquet/",
         "customer_20250717_1555.parquet/",
         0,
         1752767759000
        ],
        [
         "dbfs:/CDC_output/customer_20250717_1556.parquet/",
         "customer_20250717_1556.parquet/",
         0,
         1752767769000
        ],
        [
         "dbfs:/CDC_output/customer_20250717_1604.parquet/",
         "customer_20250717_1604.parquet/",
         0,
         1752768271000
        ],
        [
         "dbfs:/CDC_output/customer_20250717_1605.parquet/",
         "customer_20250717_1605.parquet/",
         0,
         1752768315000
        ],
        [
         "dbfs:/CDC_output/customer_20250717_1610.parquet/",
         "customer_20250717_1610.parquet/",
         0,
         1752751729000
        ],
        [
         "dbfs:/CDC_output/customer_20250717_1727.parquet/",
         "customer_20250717_1727.parquet/",
         0,
         1752773252000
        ],
        [
         "dbfs:/CDC_output/inventory_20250717_0935.parquet/",
         "inventory_20250717_0935.parquet/",
         0,
         1752744903000
        ],
        [
         "dbfs:/CDC_output/inventory_20250717_0956.parquet/",
         "inventory_20250717_0956.parquet/",
         0,
         1752746165000
        ],
        [
         "dbfs:/CDC_output/inventory_20250717_1008.parquet/",
         "inventory_20250717_1008.parquet/",
         0,
         1752746891000
        ],
        [
         "dbfs:/CDC_output/inventory_20250717_1039.parquet/",
         "inventory_20250717_1039.parquet/",
         0,
         1752748799000
        ],
        [
         "dbfs:/CDC_output/inventory_20250717_1055.parquet/",
         "inventory_20250717_1055.parquet/",
         0,
         1752749719000
        ],
        [
         "dbfs:/CDC_output/inventory_20250717_1109.parquet/",
         "inventory_20250717_1109.parquet/",
         0,
         1752750589000
        ],
        [
         "dbfs:/CDC_output/inventory_20250717_1127.parquet/",
         "inventory_20250717_1127.parquet/",
         0,
         1752751668000
        ],
        [
         "dbfs:/CDC_output/inventory_20250717_1132.parquet/",
         "inventory_20250717_1132.parquet/",
         0,
         1752751972000
        ],
        [
         "dbfs:/CDC_output/inventory_20250717_1145.parquet/",
         "inventory_20250717_1145.parquet/",
         0,
         1752752713000
        ],
        [
         "dbfs:/CDC_output/inventory_20250717_1250.parquet/",
         "inventory_20250717_1250.parquet/",
         0,
         1752756621000
        ],
        [
         "dbfs:/CDC_output/inventory_20250717_1252.parquet/",
         "inventory_20250717_1252.parquet/",
         0,
         1752756737000
        ],
        [
         "dbfs:/CDC_output/inventory_20250717_1253.parquet/",
         "inventory_20250717_1253.parquet/",
         0,
         1752756788000
        ],
        [
         "dbfs:/CDC_output/inventory_20250717_1254.parquet/",
         "inventory_20250717_1254.parquet/",
         0,
         1752756845000
        ],
        [
         "dbfs:/CDC_output/inventory_20250717_1256.parquet/",
         "inventory_20250717_1256.parquet/",
         0,
         1752756999000
        ],
        [
         "dbfs:/CDC_output/inventory_20250717_1350.parquet/",
         "inventory_20250717_1350.parquet/",
         0,
         1752760213000
        ],
        [
         "dbfs:/CDC_output/inventory_20250717_1450.parquet/",
         "inventory_20250717_1450.parquet/",
         0,
         1752763812000
        ],
        [
         "dbfs:/CDC_output/inventory_20250717_1547.parquet/",
         "inventory_20250717_1547.parquet/",
         0,
         1752767240000
        ],
        [
         "dbfs:/CDC_output/inventory_20250717_1556.parquet/",
         "inventory_20250717_1556.parquet/",
         0,
         1752767761000
        ],
        [
         "dbfs:/CDC_output/inventory_20250717_1604.parquet/",
         "inventory_20250717_1604.parquet/",
         0,
         1752768272000
        ],
        [
         "dbfs:/CDC_output/inventory_20250717_1605.parquet/",
         "inventory_20250717_1605.parquet/",
         0,
         1752768316000
        ],
        [
         "dbfs:/CDC_output/inventory_20250717_1650.parquet/",
         "inventory_20250717_1650.parquet/",
         0,
         1752771013000
        ],
        [
         "dbfs:/CDC_output/inventory_20250717_1727.parquet/",
         "inventory_20250717_1727.parquet/",
         0,
         1752773230000
        ],
        [
         "dbfs:/CDC_output/inventory_20250717_<time>.parquet/",
         "inventory_20250717_<time>.parquet/",
         0,
         1752751746000
        ],
        [
         "dbfs:/CDC_output/order_20250717_0926.parquet/",
         "order_20250717_0926.parquet/",
         0,
         1752744413000
        ],
        [
         "dbfs:/CDC_output/order_20250717_0935.parquet/",
         "order_20250717_0935.parquet/",
         0,
         1752744900000
        ],
        [
         "dbfs:/CDC_output/order_20250717_0955.parquet/",
         "order_20250717_0955.parquet/",
         0,
         1752746156000
        ],
        [
         "dbfs:/CDC_output/order_20250717_0956.parquet/",
         "order_20250717_0956.parquet/",
         0,
         1752746163000
        ],
        [
         "dbfs:/CDC_output/order_20250717_1008.parquet/",
         "order_20250717_1008.parquet/",
         0,
         1752746889000
        ],
        [
         "dbfs:/CDC_output/order_20250717_1039.parquet/",
         "order_20250717_1039.parquet/",
         0,
         1752748795000
        ],
        [
         "dbfs:/CDC_output/order_20250717_1055.parquet/",
         "order_20250717_1055.parquet/",
         0,
         1752749714000
        ],
        [
         "dbfs:/CDC_output/order_20250717_1109.parquet/",
         "order_20250717_1109.parquet/",
         0,
         1752750584000
        ],
        [
         "dbfs:/CDC_output/order_20250717_1120.parquet/",
         "order_20250717_1120.parquet/",
         0,
         1752751253000
        ],
        [
         "dbfs:/CDC_output/order_20250717_1145.parquet/",
         "order_20250717_1145.parquet/",
         0,
         1752752711000
        ],
        [
         "dbfs:/CDC_output/order_20250717_1252.parquet/",
         "order_20250717_1252.parquet/",
         0,
         1752756734000
        ],
        [
         "dbfs:/CDC_output/order_20250717_1253.parquet/",
         "order_20250717_1253.parquet/",
         0,
         1752756786000
        ],
        [
         "dbfs:/CDC_output/order_20250717_1254.parquet/",
         "order_20250717_1254.parquet/",
         0,
         1752756842000
        ],
        [
         "dbfs:/CDC_output/order_20250717_1256.parquet/",
         "order_20250717_1256.parquet/",
         0,
         1752756996000
        ],
        [
         "dbfs:/CDC_output/order_20250717_1555.parquet/",
         "order_20250717_1555.parquet/",
         0,
         1752767758000
        ],
        [
         "dbfs:/CDC_output/order_20250717_1556.parquet/",
         "order_20250717_1556.parquet/",
         0,
         1752767775000
        ],
        [
         "dbfs:/CDC_output/order_20250717_1604.parquet/",
         "order_20250717_1604.parquet/",
         0,
         1752768270000
        ],
        [
         "dbfs:/CDC_output/order_20250717_1605.parquet/",
         "order_20250717_1605.parquet/",
         0,
         1752768315000
        ],
        [
         "dbfs:/CDC_output/order_20250717_1610.parquet/",
         "order_20250717_1610.parquet/",
         0,
         1752748922000
        ],
        [
         "dbfs:/CDC_output/order_20250717_1727.parquet/",
         "order_20250717_1727.parquet/",
         0,
         1752773251000
        ],
        [
         "dbfs:/CDC_output/order_20250717_<time>.parquet/",
         "order_20250717_<time>.parquet/",
         0,
         1752750888000
        ],
        [
         "dbfs:/CDC_output/product_20250717_0935.parquet/",
         "product_20250717_0935.parquet/",
         0,
         1752744902000
        ],
        [
         "dbfs:/CDC_output/product_20250717_0956.parquet/",
         "product_20250717_0956.parquet/",
         0,
         1752746164000
        ],
        [
         "dbfs:/CDC_output/product_20250717_1008.parquet/",
         "product_20250717_1008.parquet/",
         0,
         1752746890000
        ],
        [
         "dbfs:/CDC_output/product_20250717_1039.parquet/",
         "product_20250717_1039.parquet/",
         0,
         1752748798000
        ],
        [
         "dbfs:/CDC_output/product_20250717_1055.parquet/",
         "product_20250717_1055.parquet/",
         0,
         1752749718000
        ],
        [
         "dbfs:/CDC_output/product_20250717_1109.parquet/",
         "product_20250717_1109.parquet/",
         0,
         1752750588000
        ],
        [
         "dbfs:/CDC_output/product_20250717_1124.parquet/",
         "product_20250717_1124.parquet/",
         0,
         1752751496000
        ],
        [
         "dbfs:/CDC_output/product_20250717_1132.parquet/",
         "product_20250717_1132.parquet/",
         0,
         1752751933000
        ],
        [
         "dbfs:/CDC_output/product_20250717_1135.parquet/",
         "product_20250717_1135.parquet/",
         0,
         1752752148000
        ],
        [
         "dbfs:/CDC_output/product_20250717_1145.parquet/",
         "product_20250717_1145.parquet/",
         0,
         1752752712000
        ],
        [
         "dbfs:/CDC_output/product_20250717_1250.parquet/",
         "product_20250717_1250.parquet/",
         0,
         1752756618000
        ],
        [
         "dbfs:/CDC_output/product_20250717_1252.parquet/",
         "product_20250717_1252.parquet/",
         0,
         1752756735000
        ],
        [
         "dbfs:/CDC_output/product_20250717_1253.parquet/",
         "product_20250717_1253.parquet/",
         0,
         1752756787000
        ],
        [
         "dbfs:/CDC_output/product_20250717_1254.parquet/",
         "product_20250717_1254.parquet/",
         0,
         1752756844000
        ],
        [
         "dbfs:/CDC_output/product_20250717_1256.parquet/",
         "product_20250717_1256.parquet/",
         0,
         1752756998000
        ],
        [
         "dbfs:/CDC_output/product_20250717_1556.parquet/",
         "product_20250717_1556.parquet/",
         0,
         1752767760000
        ],
        [
         "dbfs:/CDC_output/product_20250717_1604.parquet/",
         "product_20250717_1604.parquet/",
         0,
         1752768271000
        ],
        [
         "dbfs:/CDC_output/product_20250717_1605.parquet/",
         "product_20250717_1605.parquet/",
         0,
         1752768316000
        ],
        [
         "dbfs:/CDC_output/product_20250717_1650.parquet/",
         "product_20250717_1650.parquet/",
         0,
         1752771009000
        ],
        [
         "dbfs:/CDC_output/product_20250717_1727.parquet/",
         "product_20250717_1727.parquet/",
         0,
         1752773253000
        ],
        [
         "dbfs:/CDC_output/product_20250717_<time>.parquet/",
         "product_20250717_<time>.parquet/",
         0,
         1752751738000
        ]
       ],
       "datasetInfos": [],
       "dbfsResultPath": null,
       "isJsonSchema": true,
       "metadata": {},
       "overflow": false,
       "plotOptions": {
        "customPlotOptions": {},
        "displayType": "table",
        "pivotAggregation": null,
        "pivotColumns": null,
        "xColumns": null,
        "yColumns": null
       },
       "removedWidgets": [],
       "schema": [
        {
         "metadata": "{}",
         "name": "path",
         "type": "\"string\""
        },
        {
         "metadata": "{}",
         "name": "name",
         "type": "\"string\""
        },
        {
         "metadata": "{}",
         "name": "size",
         "type": "\"long\""
        },
        {
         "metadata": "{}",
         "name": "modificationTime",
         "type": "\"long\""
        }
       ],
       "type": "table"
      }
     },
     "output_type": "display_data"
    }
   ],
   "source": [
    "display(dbutils.fs.ls(\"dbfs:/CDC_output/\"))"
   ]
  },
  {
   "cell_type": "code",
   "execution_count": 0,
   "metadata": {
    "application/vnd.databricks.v1+cell": {
     "cellMetadata": {
      "byteLimit": 2048000,
      "rowLimit": 10000
     },
     "inputWidgets": {},
     "nuid": "f52ecc19-28c5-437f-9fc1-37e617a4d266",
     "showTitle": false,
     "tableResultSettingsMap": {},
     "title": ""
    }
   },
   "outputs": [
    {
     "output_type": "display_data",
     "data": {
      "text/html": [
       "<style scoped>\n",
       "  .ansiout {\n",
       "    display: block;\n",
       "    unicode-bidi: embed;\n",
       "    white-space: pre-wrap;\n",
       "    word-wrap: break-word;\n",
       "    word-break: break-all;\n",
       "    font-family: \"Menlo\", \"Monaco\", \"Consolas\", \"Ubuntu Mono\", \"Source Code Pro\", monospace;\n",
       "    font-size: 13px;\n",
       "    color: #555;\n",
       "    margin-left: 4px;\n",
       "    line-height: 19px;\n",
       "  }\n",
       "</style>\n",
       "<div class=\"ansiout\">Order count before write: 2\n",
       "+-------+----------+---------+--------+-------------------+-----------+\n",
       "OrderID|CustomerID|ProductID|Quantity|          OrderDate|TotalAmount|\n",
       "+-------+----------+---------+--------+-------------------+-----------+\n",
       "      1|         1|        1|       2|2025-07-17 00:00:00|     240.00|\n",
       "      2|         2|        2|       5|2025-07-17 00:00:00|     225.00|\n",
       "+-------+----------+---------+--------+-------------------+-----------+\n",
       "\n",
       "</div>"
      ]
     },
     "metadata": {
      "application/vnd.databricks.v1+output": {
       "addedWidgets": {},
       "arguments": {},
       "data": "<div class=\"ansiout\">Order count before write: 2\n+-------+----------+---------+--------+-------------------+-----------+\n|OrderID|CustomerID|ProductID|Quantity|          OrderDate|TotalAmount|\n+-------+----------+---------+--------+-------------------+-----------+\n|      1|         1|        1|       2|2025-07-17 00:00:00|     240.00|\n|      2|         2|        2|       5|2025-07-17 00:00:00|     225.00|\n+-------+----------+---------+--------+-------------------+-----------+\n\n</div>",
       "datasetInfos": [],
       "metadata": {},
       "removedWidgets": [],
       "type": "html"
      }
     },
     "output_type": "display_data"
    }
   ],
   "source": [
    "print(\"Order count before write:\", df_order.count())\n",
    "df_order.show(3)"
   ]
  },
  {
   "cell_type": "code",
   "execution_count": 0,
   "metadata": {
    "application/vnd.databricks.v1+cell": {
     "cellMetadata": {
      "byteLimit": 2048000,
      "rowLimit": 10000
     },
     "inputWidgets": {},
     "nuid": "7694a457-dedb-4ee1-927f-42b341bd8a0c",
     "showTitle": false,
     "tableResultSettingsMap": {},
     "title": ""
    }
   },
   "outputs": [
    {
     "output_type": "display_data",
     "data": {
      "text/html": [
       "<style scoped>\n",
       "  .ansiout {\n",
       "    display: block;\n",
       "    unicode-bidi: embed;\n",
       "    white-space: pre-wrap;\n",
       "    word-wrap: break-word;\n",
       "    word-break: break-all;\n",
       "    font-family: \"Menlo\", \"Monaco\", \"Consolas\", \"Ubuntu Mono\", \"Source Code Pro\", monospace;\n",
       "    font-size: 13px;\n",
       "    color: #555;\n",
       "    margin-left: 4px;\n",
       "    line-height: 19px;\n",
       "  }\n",
       "</style>\n",
       "<div class=\"ansiout\">Full Order table row count: 2\n",
       "+-------+----------+---------+--------+-------------------+-----------+\n",
       "OrderID|CustomerID|ProductID|Quantity|          OrderDate|TotalAmount|\n",
       "+-------+----------+---------+--------+-------------------+-----------+\n",
       "      1|         1|        1|       2|2025-07-17 00:00:00|     240.00|\n",
       "      2|         2|        2|       5|2025-07-17 00:00:00|     225.00|\n",
       "+-------+----------+---------+--------+-------------------+-----------+\n",
       "\n",
       "CDC Order count: 2\n",
       "+-------+----------+---------+--------+-------------------+-----------+\n",
       "OrderID|CustomerID|ProductID|Quantity|          OrderDate|TotalAmount|\n",
       "+-------+----------+---------+--------+-------------------+-----------+\n",
       "      1|         1|        1|       2|2025-07-17 00:00:00|     240.00|\n",
       "      2|         2|        2|       5|2025-07-17 00:00:00|     225.00|\n",
       "+-------+----------+---------+--------+-------------------+-----------+\n",
       "\n",
       "</div>"
      ]
     },
     "metadata": {
      "application/vnd.databricks.v1+output": {
       "addedWidgets": {},
       "arguments": {},
       "data": "<div class=\"ansiout\">Full Order table row count: 2\n+-------+----------+---------+--------+-------------------+-----------+\n|OrderID|CustomerID|ProductID|Quantity|          OrderDate|TotalAmount|\n+-------+----------+---------+--------+-------------------+-----------+\n|      1|         1|        1|       2|2025-07-17 00:00:00|     240.00|\n|      2|         2|        2|       5|2025-07-17 00:00:00|     225.00|\n+-------+----------+---------+--------+-------------------+-----------+\n\nCDC Order count: 2\n+-------+----------+---------+--------+-------------------+-----------+\n|OrderID|CustomerID|ProductID|Quantity|          OrderDate|TotalAmount|\n+-------+----------+---------+--------+-------------------+-----------+\n|      1|         1|        1|       2|2025-07-17 00:00:00|     240.00|\n|      2|         2|        2|       5|2025-07-17 00:00:00|     225.00|\n+-------+----------+---------+--------+-------------------+-----------+\n\n</div>",
       "datasetInfos": [],
       "metadata": {},
       "removedWidgets": [],
       "type": "html"
      }
     },
     "output_type": "display_data"
    }
   ],
   "source": [
    "from pyspark.sql.functions import col\n",
    "\n",
    "# Step 2: Load and filter Order table\n",
    "df_order = spark.read.format(\"jdbc\") \\\n",
    "    .option(\"url\", jdbc_url) \\\n",
    "    .option(\"dbtable\", \"[dbo].[Order]\") \\\n",
    "    .option(\"user\", jdbc_properties[\"user\"]) \\\n",
    "    .option(\"password\", jdbc_properties[\"password\"]) \\\n",
    "    .option(\"driver\", jdbc_properties[\"driver\"]) \\\n",
    "    .load()\n",
    "\n",
    "print(\"Full Order table row count:\", df_order.count())\n",
    "df_order.show(5)\n",
    "\n",
    "# Apply CDC filter (only if rows exist!)\n",
    "df_cdc = df_order.filter(col(\"OrderDate\") >= \"2025-07-16\")\n",
    "\n",
    "print(\"CDC Order count:\", df_cdc.count())\n",
    "df_cdc.show(5)"
   ]
  },
  {
   "cell_type": "code",
   "execution_count": 0,
   "metadata": {
    "application/vnd.databricks.v1+cell": {
     "cellMetadata": {
      "byteLimit": 2048000,
      "rowLimit": 10000
     },
     "inputWidgets": {},
     "nuid": "0f3bfda0-b724-4c97-a473-cad8b6b1a96a",
     "showTitle": false,
     "tableResultSettingsMap": {},
     "title": ""
    }
   },
   "outputs": [
    {
     "output_type": "display_data",
     "data": {
      "text/html": [
       "<style scoped>\n",
       "  .ansiout {\n",
       "    display: block;\n",
       "    unicode-bidi: embed;\n",
       "    white-space: pre-wrap;\n",
       "    word-wrap: break-word;\n",
       "    word-break: break-all;\n",
       "    font-family: \"Menlo\", \"Monaco\", \"Consolas\", \"Ubuntu Mono\", \"Source Code Pro\", monospace;\n",
       "    font-size: 13px;\n",
       "    color: #555;\n",
       "    margin-left: 4px;\n",
       "    line-height: 19px;\n",
       "  }\n",
       "</style>\n",
       "<div class=\"ansiout\"></div>"
      ]
     },
     "metadata": {
      "application/vnd.databricks.v1+output": {
       "addedWidgets": {},
       "arguments": {},
       "data": "<div class=\"ansiout\"></div>",
       "datasetInfos": [],
       "metadata": {},
       "removedWidgets": [],
       "type": "html"
      }
     },
     "output_type": "display_data"
    }
   ],
   "source": [
    "df_cdc.write.mode(\"overwrite\").parquet(\"dbfs:/CDC_output/order_20250717_1610.parquet\")"
   ]
  },
  {
   "cell_type": "code",
   "execution_count": 0,
   "metadata": {
    "application/vnd.databricks.v1+cell": {
     "cellMetadata": {
      "byteLimit": 2048000,
      "rowLimit": 10000
     },
     "inputWidgets": {},
     "nuid": "ecbea947-4ced-46c2-80f4-585afe3e8ac4",
     "showTitle": false,
     "tableResultSettingsMap": {},
     "title": ""
    }
   },
   "outputs": [
    {
     "output_type": "display_data",
     "data": {
      "text/html": [
       "<style scoped>\n",
       "  .table-result-container {\n",
       "    max-height: 300px;\n",
       "    overflow: auto;\n",
       "  }\n",
       "  table, th, td {\n",
       "    border: 1px solid black;\n",
       "    border-collapse: collapse;\n",
       "  }\n",
       "  th, td {\n",
       "    padding: 5px;\n",
       "  }\n",
       "  th {\n",
       "    text-align: left;\n",
       "  }\n",
       "</style><div class='table-result-container'><table class='table-result'><thead style='background-color: white'><tr><th>path</th><th>name</th><th>size</th><th>modificationTime</th></tr></thead><tbody><tr><td>dbfs:/CDC_output/customer_20250717_0935.parquet/</td><td>customer_20250717_0935.parquet/</td><td>0</td><td>1752744901000</td></tr><tr><td>dbfs:/CDC_output/customer_20250717_0956.parquet/</td><td>customer_20250717_0956.parquet/</td><td>0</td><td>1752746163000</td></tr><tr><td>dbfs:/CDC_output/customer_20250717_1008.parquet/</td><td>customer_20250717_1008.parquet/</td><td>0</td><td>1752746889000</td></tr><tr><td>dbfs:/CDC_output/customer_20250717_1039.parquet/</td><td>customer_20250717_1039.parquet/</td><td>0</td><td>1752748797000</td></tr><tr><td>dbfs:/CDC_output/customer_20250717_1055.parquet/</td><td>customer_20250717_1055.parquet/</td><td>0</td><td>1752749717000</td></tr><tr><td>dbfs:/CDC_output/customer_20250717_1109.parquet/</td><td>customer_20250717_1109.parquet/</td><td>0</td><td>1752750587000</td></tr><tr><td>dbfs:/CDC_output/customer_20250717_1126.parquet/</td><td>customer_20250717_1126.parquet/</td><td>0</td><td>1752751582000</td></tr><tr><td>dbfs:/CDC_output/customer_20250717_1132.parquet/</td><td>customer_20250717_1132.parquet/</td><td>0</td><td>1752751930000</td></tr><tr><td>dbfs:/CDC_output/customer_20250717_1145.parquet/</td><td>customer_20250717_1145.parquet/</td><td>0</td><td>1752752712000</td></tr><tr><td>dbfs:/CDC_output/customer_20250717_1252.parquet/</td><td>customer_20250717_1252.parquet/</td><td>0</td><td>1752756735000</td></tr><tr><td>dbfs:/CDC_output/customer_20250717_1253.parquet/</td><td>customer_20250717_1253.parquet/</td><td>0</td><td>1752756786000</td></tr><tr><td>dbfs:/CDC_output/customer_20250717_1254.parquet/</td><td>customer_20250717_1254.parquet/</td><td>0</td><td>1752756843000</td></tr><tr><td>dbfs:/CDC_output/customer_20250717_1256.parquet/</td><td>customer_20250717_1256.parquet/</td><td>0</td><td>1752756997000</td></tr><tr><td>dbfs:/CDC_output/customer_20250717_1555.parquet/</td><td>customer_20250717_1555.parquet/</td><td>0</td><td>1752767759000</td></tr><tr><td>dbfs:/CDC_output/customer_20250717_1556.parquet/</td><td>customer_20250717_1556.parquet/</td><td>0</td><td>1752767769000</td></tr><tr><td>dbfs:/CDC_output/customer_20250717_1604.parquet/</td><td>customer_20250717_1604.parquet/</td><td>0</td><td>1752768271000</td></tr><tr><td>dbfs:/CDC_output/customer_20250717_1605.parquet/</td><td>customer_20250717_1605.parquet/</td><td>0</td><td>1752768315000</td></tr><tr><td>dbfs:/CDC_output/customer_20250717_1610.parquet/</td><td>customer_20250717_1610.parquet/</td><td>0</td><td>1752751729000</td></tr><tr><td>dbfs:/CDC_output/customer_20250717_1727.parquet/</td><td>customer_20250717_1727.parquet/</td><td>0</td><td>1752773252000</td></tr><tr><td>dbfs:/CDC_output/inventory_20250717_0935.parquet/</td><td>inventory_20250717_0935.parquet/</td><td>0</td><td>1752744903000</td></tr><tr><td>dbfs:/CDC_output/inventory_20250717_0956.parquet/</td><td>inventory_20250717_0956.parquet/</td><td>0</td><td>1752746165000</td></tr><tr><td>dbfs:/CDC_output/inventory_20250717_1008.parquet/</td><td>inventory_20250717_1008.parquet/</td><td>0</td><td>1752746891000</td></tr><tr><td>dbfs:/CDC_output/inventory_20250717_1039.parquet/</td><td>inventory_20250717_1039.parquet/</td><td>0</td><td>1752748799000</td></tr><tr><td>dbfs:/CDC_output/inventory_20250717_1055.parquet/</td><td>inventory_20250717_1055.parquet/</td><td>0</td><td>1752749719000</td></tr><tr><td>dbfs:/CDC_output/inventory_20250717_1109.parquet/</td><td>inventory_20250717_1109.parquet/</td><td>0</td><td>1752750589000</td></tr><tr><td>dbfs:/CDC_output/inventory_20250717_1127.parquet/</td><td>inventory_20250717_1127.parquet/</td><td>0</td><td>1752751668000</td></tr><tr><td>dbfs:/CDC_output/inventory_20250717_1132.parquet/</td><td>inventory_20250717_1132.parquet/</td><td>0</td><td>1752751972000</td></tr><tr><td>dbfs:/CDC_output/inventory_20250717_1145.parquet/</td><td>inventory_20250717_1145.parquet/</td><td>0</td><td>1752752713000</td></tr><tr><td>dbfs:/CDC_output/inventory_20250717_1250.parquet/</td><td>inventory_20250717_1250.parquet/</td><td>0</td><td>1752756621000</td></tr><tr><td>dbfs:/CDC_output/inventory_20250717_1252.parquet/</td><td>inventory_20250717_1252.parquet/</td><td>0</td><td>1752756737000</td></tr><tr><td>dbfs:/CDC_output/inventory_20250717_1253.parquet/</td><td>inventory_20250717_1253.parquet/</td><td>0</td><td>1752756788000</td></tr><tr><td>dbfs:/CDC_output/inventory_20250717_1254.parquet/</td><td>inventory_20250717_1254.parquet/</td><td>0</td><td>1752756845000</td></tr><tr><td>dbfs:/CDC_output/inventory_20250717_1256.parquet/</td><td>inventory_20250717_1256.parquet/</td><td>0</td><td>1752756999000</td></tr><tr><td>dbfs:/CDC_output/inventory_20250717_1350.parquet/</td><td>inventory_20250717_1350.parquet/</td><td>0</td><td>1752760213000</td></tr><tr><td>dbfs:/CDC_output/inventory_20250717_1450.parquet/</td><td>inventory_20250717_1450.parquet/</td><td>0</td><td>1752763812000</td></tr><tr><td>dbfs:/CDC_output/inventory_20250717_1547.parquet/</td><td>inventory_20250717_1547.parquet/</td><td>0</td><td>1752767240000</td></tr><tr><td>dbfs:/CDC_output/inventory_20250717_1556.parquet/</td><td>inventory_20250717_1556.parquet/</td><td>0</td><td>1752767761000</td></tr><tr><td>dbfs:/CDC_output/inventory_20250717_1604.parquet/</td><td>inventory_20250717_1604.parquet/</td><td>0</td><td>1752768272000</td></tr><tr><td>dbfs:/CDC_output/inventory_20250717_1605.parquet/</td><td>inventory_20250717_1605.parquet/</td><td>0</td><td>1752768316000</td></tr><tr><td>dbfs:/CDC_output/inventory_20250717_1650.parquet/</td><td>inventory_20250717_1650.parquet/</td><td>0</td><td>1752771013000</td></tr><tr><td>dbfs:/CDC_output/inventory_20250717_1727.parquet/</td><td>inventory_20250717_1727.parquet/</td><td>0</td><td>1752773230000</td></tr><tr><td>dbfs:/CDC_output/inventory_20250717_<time>.parquet/</td><td>inventory_20250717_<time>.parquet/</td><td>0</td><td>1752751746000</td></tr><tr><td>dbfs:/CDC_output/order_20250717_0926.parquet/</td><td>order_20250717_0926.parquet/</td><td>0</td><td>1752744413000</td></tr><tr><td>dbfs:/CDC_output/order_20250717_0935.parquet/</td><td>order_20250717_0935.parquet/</td><td>0</td><td>1752744900000</td></tr><tr><td>dbfs:/CDC_output/order_20250717_0955.parquet/</td><td>order_20250717_0955.parquet/</td><td>0</td><td>1752746156000</td></tr><tr><td>dbfs:/CDC_output/order_20250717_0956.parquet/</td><td>order_20250717_0956.parquet/</td><td>0</td><td>1752746163000</td></tr><tr><td>dbfs:/CDC_output/order_20250717_1008.parquet/</td><td>order_20250717_1008.parquet/</td><td>0</td><td>1752746889000</td></tr><tr><td>dbfs:/CDC_output/order_20250717_1039.parquet/</td><td>order_20250717_1039.parquet/</td><td>0</td><td>1752748795000</td></tr><tr><td>dbfs:/CDC_output/order_20250717_1055.parquet/</td><td>order_20250717_1055.parquet/</td><td>0</td><td>1752749714000</td></tr><tr><td>dbfs:/CDC_output/order_20250717_1109.parquet/</td><td>order_20250717_1109.parquet/</td><td>0</td><td>1752750584000</td></tr><tr><td>dbfs:/CDC_output/order_20250717_1120.parquet/</td><td>order_20250717_1120.parquet/</td><td>0</td><td>1752751253000</td></tr><tr><td>dbfs:/CDC_output/order_20250717_1145.parquet/</td><td>order_20250717_1145.parquet/</td><td>0</td><td>1752752711000</td></tr><tr><td>dbfs:/CDC_output/order_20250717_1252.parquet/</td><td>order_20250717_1252.parquet/</td><td>0</td><td>1752756734000</td></tr><tr><td>dbfs:/CDC_output/order_20250717_1253.parquet/</td><td>order_20250717_1253.parquet/</td><td>0</td><td>1752756786000</td></tr><tr><td>dbfs:/CDC_output/order_20250717_1254.parquet/</td><td>order_20250717_1254.parquet/</td><td>0</td><td>1752756842000</td></tr><tr><td>dbfs:/CDC_output/order_20250717_1256.parquet/</td><td>order_20250717_1256.parquet/</td><td>0</td><td>1752756996000</td></tr><tr><td>dbfs:/CDC_output/order_20250717_1555.parquet/</td><td>order_20250717_1555.parquet/</td><td>0</td><td>1752767758000</td></tr><tr><td>dbfs:/CDC_output/order_20250717_1556.parquet/</td><td>order_20250717_1556.parquet/</td><td>0</td><td>1752767775000</td></tr><tr><td>dbfs:/CDC_output/order_20250717_1604.parquet/</td><td>order_20250717_1604.parquet/</td><td>0</td><td>1752768270000</td></tr><tr><td>dbfs:/CDC_output/order_20250717_1605.parquet/</td><td>order_20250717_1605.parquet/</td><td>0</td><td>1752768315000</td></tr><tr><td>dbfs:/CDC_output/order_20250717_1610.parquet/</td><td>order_20250717_1610.parquet/</td><td>0</td><td>1752748922000</td></tr><tr><td>dbfs:/CDC_output/order_20250717_1727.parquet/</td><td>order_20250717_1727.parquet/</td><td>0</td><td>1752773251000</td></tr><tr><td>dbfs:/CDC_output/order_20250717_<time>.parquet/</td><td>order_20250717_<time>.parquet/</td><td>0</td><td>1752750888000</td></tr><tr><td>dbfs:/CDC_output/product_20250717_0935.parquet/</td><td>product_20250717_0935.parquet/</td><td>0</td><td>1752744902000</td></tr><tr><td>dbfs:/CDC_output/product_20250717_0956.parquet/</td><td>product_20250717_0956.parquet/</td><td>0</td><td>1752746164000</td></tr><tr><td>dbfs:/CDC_output/product_20250717_1008.parquet/</td><td>product_20250717_1008.parquet/</td><td>0</td><td>1752746890000</td></tr><tr><td>dbfs:/CDC_output/product_20250717_1039.parquet/</td><td>product_20250717_1039.parquet/</td><td>0</td><td>1752748798000</td></tr><tr><td>dbfs:/CDC_output/product_20250717_1055.parquet/</td><td>product_20250717_1055.parquet/</td><td>0</td><td>1752749718000</td></tr><tr><td>dbfs:/CDC_output/product_20250717_1109.parquet/</td><td>product_20250717_1109.parquet/</td><td>0</td><td>1752750588000</td></tr><tr><td>dbfs:/CDC_output/product_20250717_1124.parquet/</td><td>product_20250717_1124.parquet/</td><td>0</td><td>1752751496000</td></tr><tr><td>dbfs:/CDC_output/product_20250717_1132.parquet/</td><td>product_20250717_1132.parquet/</td><td>0</td><td>1752751933000</td></tr><tr><td>dbfs:/CDC_output/product_20250717_1135.parquet/</td><td>product_20250717_1135.parquet/</td><td>0</td><td>1752752148000</td></tr><tr><td>dbfs:/CDC_output/product_20250717_1145.parquet/</td><td>product_20250717_1145.parquet/</td><td>0</td><td>1752752712000</td></tr><tr><td>dbfs:/CDC_output/product_20250717_1250.parquet/</td><td>product_20250717_1250.parquet/</td><td>0</td><td>1752756618000</td></tr><tr><td>dbfs:/CDC_output/product_20250717_1252.parquet/</td><td>product_20250717_1252.parquet/</td><td>0</td><td>1752756735000</td></tr><tr><td>dbfs:/CDC_output/product_20250717_1253.parquet/</td><td>product_20250717_1253.parquet/</td><td>0</td><td>1752756787000</td></tr><tr><td>dbfs:/CDC_output/product_20250717_1254.parquet/</td><td>product_20250717_1254.parquet/</td><td>0</td><td>1752756844000</td></tr><tr><td>dbfs:/CDC_output/product_20250717_1256.parquet/</td><td>product_20250717_1256.parquet/</td><td>0</td><td>1752756998000</td></tr><tr><td>dbfs:/CDC_output/product_20250717_1556.parquet/</td><td>product_20250717_1556.parquet/</td><td>0</td><td>1752767760000</td></tr><tr><td>dbfs:/CDC_output/product_20250717_1604.parquet/</td><td>product_20250717_1604.parquet/</td><td>0</td><td>1752768271000</td></tr><tr><td>dbfs:/CDC_output/product_20250717_1605.parquet/</td><td>product_20250717_1605.parquet/</td><td>0</td><td>1752768316000</td></tr><tr><td>dbfs:/CDC_output/product_20250717_1650.parquet/</td><td>product_20250717_1650.parquet/</td><td>0</td><td>1752771009000</td></tr><tr><td>dbfs:/CDC_output/product_20250717_1727.parquet/</td><td>product_20250717_1727.parquet/</td><td>0</td><td>1752773253000</td></tr><tr><td>dbfs:/CDC_output/product_20250717_<time>.parquet/</td><td>product_20250717_<time>.parquet/</td><td>0</td><td>1752751738000</td></tr></tbody></table></div>"
      ]
     },
     "metadata": {
      "application/vnd.databricks.v1+output": {
       "addedWidgets": {},
       "aggData": [],
       "aggError": "",
       "aggOverflow": false,
       "aggSchema": [],
       "aggSeriesLimitReached": false,
       "aggType": "",
       "arguments": {},
       "columnCustomDisplayInfos": {},
       "data": [
        [
         "dbfs:/CDC_output/customer_20250717_0935.parquet/",
         "customer_20250717_0935.parquet/",
         0,
         1752744901000
        ],
        [
         "dbfs:/CDC_output/customer_20250717_0956.parquet/",
         "customer_20250717_0956.parquet/",
         0,
         1752746163000
        ],
        [
         "dbfs:/CDC_output/customer_20250717_1008.parquet/",
         "customer_20250717_1008.parquet/",
         0,
         1752746889000
        ],
        [
         "dbfs:/CDC_output/customer_20250717_1039.parquet/",
         "customer_20250717_1039.parquet/",
         0,
         1752748797000
        ],
        [
         "dbfs:/CDC_output/customer_20250717_1055.parquet/",
         "customer_20250717_1055.parquet/",
         0,
         1752749717000
        ],
        [
         "dbfs:/CDC_output/customer_20250717_1109.parquet/",
         "customer_20250717_1109.parquet/",
         0,
         1752750587000
        ],
        [
         "dbfs:/CDC_output/customer_20250717_1126.parquet/",
         "customer_20250717_1126.parquet/",
         0,
         1752751582000
        ],
        [
         "dbfs:/CDC_output/customer_20250717_1132.parquet/",
         "customer_20250717_1132.parquet/",
         0,
         1752751930000
        ],
        [
         "dbfs:/CDC_output/customer_20250717_1145.parquet/",
         "customer_20250717_1145.parquet/",
         0,
         1752752712000
        ],
        [
         "dbfs:/CDC_output/customer_20250717_1252.parquet/",
         "customer_20250717_1252.parquet/",
         0,
         1752756735000
        ],
        [
         "dbfs:/CDC_output/customer_20250717_1253.parquet/",
         "customer_20250717_1253.parquet/",
         0,
         1752756786000
        ],
        [
         "dbfs:/CDC_output/customer_20250717_1254.parquet/",
         "customer_20250717_1254.parquet/",
         0,
         1752756843000
        ],
        [
         "dbfs:/CDC_output/customer_20250717_1256.parquet/",
         "customer_20250717_1256.parquet/",
         0,
         1752756997000
        ],
        [
         "dbfs:/CDC_output/customer_20250717_1555.parquet/",
         "customer_20250717_1555.parquet/",
         0,
         1752767759000
        ],
        [
         "dbfs:/CDC_output/customer_20250717_1556.parquet/",
         "customer_20250717_1556.parquet/",
         0,
         1752767769000
        ],
        [
         "dbfs:/CDC_output/customer_20250717_1604.parquet/",
         "customer_20250717_1604.parquet/",
         0,
         1752768271000
        ],
        [
         "dbfs:/CDC_output/customer_20250717_1605.parquet/",
         "customer_20250717_1605.parquet/",
         0,
         1752768315000
        ],
        [
         "dbfs:/CDC_output/customer_20250717_1610.parquet/",
         "customer_20250717_1610.parquet/",
         0,
         1752751729000
        ],
        [
         "dbfs:/CDC_output/customer_20250717_1727.parquet/",
         "customer_20250717_1727.parquet/",
         0,
         1752773252000
        ],
        [
         "dbfs:/CDC_output/inventory_20250717_0935.parquet/",
         "inventory_20250717_0935.parquet/",
         0,
         1752744903000
        ],
        [
         "dbfs:/CDC_output/inventory_20250717_0956.parquet/",
         "inventory_20250717_0956.parquet/",
         0,
         1752746165000
        ],
        [
         "dbfs:/CDC_output/inventory_20250717_1008.parquet/",
         "inventory_20250717_1008.parquet/",
         0,
         1752746891000
        ],
        [
         "dbfs:/CDC_output/inventory_20250717_1039.parquet/",
         "inventory_20250717_1039.parquet/",
         0,
         1752748799000
        ],
        [
         "dbfs:/CDC_output/inventory_20250717_1055.parquet/",
         "inventory_20250717_1055.parquet/",
         0,
         1752749719000
        ],
        [
         "dbfs:/CDC_output/inventory_20250717_1109.parquet/",
         "inventory_20250717_1109.parquet/",
         0,
         1752750589000
        ],
        [
         "dbfs:/CDC_output/inventory_20250717_1127.parquet/",
         "inventory_20250717_1127.parquet/",
         0,
         1752751668000
        ],
        [
         "dbfs:/CDC_output/inventory_20250717_1132.parquet/",
         "inventory_20250717_1132.parquet/",
         0,
         1752751972000
        ],
        [
         "dbfs:/CDC_output/inventory_20250717_1145.parquet/",
         "inventory_20250717_1145.parquet/",
         0,
         1752752713000
        ],
        [
         "dbfs:/CDC_output/inventory_20250717_1250.parquet/",
         "inventory_20250717_1250.parquet/",
         0,
         1752756621000
        ],
        [
         "dbfs:/CDC_output/inventory_20250717_1252.parquet/",
         "inventory_20250717_1252.parquet/",
         0,
         1752756737000
        ],
        [
         "dbfs:/CDC_output/inventory_20250717_1253.parquet/",
         "inventory_20250717_1253.parquet/",
         0,
         1752756788000
        ],
        [
         "dbfs:/CDC_output/inventory_20250717_1254.parquet/",
         "inventory_20250717_1254.parquet/",
         0,
         1752756845000
        ],
        [
         "dbfs:/CDC_output/inventory_20250717_1256.parquet/",
         "inventory_20250717_1256.parquet/",
         0,
         1752756999000
        ],
        [
         "dbfs:/CDC_output/inventory_20250717_1350.parquet/",
         "inventory_20250717_1350.parquet/",
         0,
         1752760213000
        ],
        [
         "dbfs:/CDC_output/inventory_20250717_1450.parquet/",
         "inventory_20250717_1450.parquet/",
         0,
         1752763812000
        ],
        [
         "dbfs:/CDC_output/inventory_20250717_1547.parquet/",
         "inventory_20250717_1547.parquet/",
         0,
         1752767240000
        ],
        [
         "dbfs:/CDC_output/inventory_20250717_1556.parquet/",
         "inventory_20250717_1556.parquet/",
         0,
         1752767761000
        ],
        [
         "dbfs:/CDC_output/inventory_20250717_1604.parquet/",
         "inventory_20250717_1604.parquet/",
         0,
         1752768272000
        ],
        [
         "dbfs:/CDC_output/inventory_20250717_1605.parquet/",
         "inventory_20250717_1605.parquet/",
         0,
         1752768316000
        ],
        [
         "dbfs:/CDC_output/inventory_20250717_1650.parquet/",
         "inventory_20250717_1650.parquet/",
         0,
         1752771013000
        ],
        [
         "dbfs:/CDC_output/inventory_20250717_1727.parquet/",
         "inventory_20250717_1727.parquet/",
         0,
         1752773230000
        ],
        [
         "dbfs:/CDC_output/inventory_20250717_<time>.parquet/",
         "inventory_20250717_<time>.parquet/",
         0,
         1752751746000
        ],
        [
         "dbfs:/CDC_output/order_20250717_0926.parquet/",
         "order_20250717_0926.parquet/",
         0,
         1752744413000
        ],
        [
         "dbfs:/CDC_output/order_20250717_0935.parquet/",
         "order_20250717_0935.parquet/",
         0,
         1752744900000
        ],
        [
         "dbfs:/CDC_output/order_20250717_0955.parquet/",
         "order_20250717_0955.parquet/",
         0,
         1752746156000
        ],
        [
         "dbfs:/CDC_output/order_20250717_0956.parquet/",
         "order_20250717_0956.parquet/",
         0,
         1752746163000
        ],
        [
         "dbfs:/CDC_output/order_20250717_1008.parquet/",
         "order_20250717_1008.parquet/",
         0,
         1752746889000
        ],
        [
         "dbfs:/CDC_output/order_20250717_1039.parquet/",
         "order_20250717_1039.parquet/",
         0,
         1752748795000
        ],
        [
         "dbfs:/CDC_output/order_20250717_1055.parquet/",
         "order_20250717_1055.parquet/",
         0,
         1752749714000
        ],
        [
         "dbfs:/CDC_output/order_20250717_1109.parquet/",
         "order_20250717_1109.parquet/",
         0,
         1752750584000
        ],
        [
         "dbfs:/CDC_output/order_20250717_1120.parquet/",
         "order_20250717_1120.parquet/",
         0,
         1752751253000
        ],
        [
         "dbfs:/CDC_output/order_20250717_1145.parquet/",
         "order_20250717_1145.parquet/",
         0,
         1752752711000
        ],
        [
         "dbfs:/CDC_output/order_20250717_1252.parquet/",
         "order_20250717_1252.parquet/",
         0,
         1752756734000
        ],
        [
         "dbfs:/CDC_output/order_20250717_1253.parquet/",
         "order_20250717_1253.parquet/",
         0,
         1752756786000
        ],
        [
         "dbfs:/CDC_output/order_20250717_1254.parquet/",
         "order_20250717_1254.parquet/",
         0,
         1752756842000
        ],
        [
         "dbfs:/CDC_output/order_20250717_1256.parquet/",
         "order_20250717_1256.parquet/",
         0,
         1752756996000
        ],
        [
         "dbfs:/CDC_output/order_20250717_1555.parquet/",
         "order_20250717_1555.parquet/",
         0,
         1752767758000
        ],
        [
         "dbfs:/CDC_output/order_20250717_1556.parquet/",
         "order_20250717_1556.parquet/",
         0,
         1752767775000
        ],
        [
         "dbfs:/CDC_output/order_20250717_1604.parquet/",
         "order_20250717_1604.parquet/",
         0,
         1752768270000
        ],
        [
         "dbfs:/CDC_output/order_20250717_1605.parquet/",
         "order_20250717_1605.parquet/",
         0,
         1752768315000
        ],
        [
         "dbfs:/CDC_output/order_20250717_1610.parquet/",
         "order_20250717_1610.parquet/",
         0,
         1752748922000
        ],
        [
         "dbfs:/CDC_output/order_20250717_1727.parquet/",
         "order_20250717_1727.parquet/",
         0,
         1752773251000
        ],
        [
         "dbfs:/CDC_output/order_20250717_<time>.parquet/",
         "order_20250717_<time>.parquet/",
         0,
         1752750888000
        ],
        [
         "dbfs:/CDC_output/product_20250717_0935.parquet/",
         "product_20250717_0935.parquet/",
         0,
         1752744902000
        ],
        [
         "dbfs:/CDC_output/product_20250717_0956.parquet/",
         "product_20250717_0956.parquet/",
         0,
         1752746164000
        ],
        [
         "dbfs:/CDC_output/product_20250717_1008.parquet/",
         "product_20250717_1008.parquet/",
         0,
         1752746890000
        ],
        [
         "dbfs:/CDC_output/product_20250717_1039.parquet/",
         "product_20250717_1039.parquet/",
         0,
         1752748798000
        ],
        [
         "dbfs:/CDC_output/product_20250717_1055.parquet/",
         "product_20250717_1055.parquet/",
         0,
         1752749718000
        ],
        [
         "dbfs:/CDC_output/product_20250717_1109.parquet/",
         "product_20250717_1109.parquet/",
         0,
         1752750588000
        ],
        [
         "dbfs:/CDC_output/product_20250717_1124.parquet/",
         "product_20250717_1124.parquet/",
         0,
         1752751496000
        ],
        [
         "dbfs:/CDC_output/product_20250717_1132.parquet/",
         "product_20250717_1132.parquet/",
         0,
         1752751933000
        ],
        [
         "dbfs:/CDC_output/product_20250717_1135.parquet/",
         "product_20250717_1135.parquet/",
         0,
         1752752148000
        ],
        [
         "dbfs:/CDC_output/product_20250717_1145.parquet/",
         "product_20250717_1145.parquet/",
         0,
         1752752712000
        ],
        [
         "dbfs:/CDC_output/product_20250717_1250.parquet/",
         "product_20250717_1250.parquet/",
         0,
         1752756618000
        ],
        [
         "dbfs:/CDC_output/product_20250717_1252.parquet/",
         "product_20250717_1252.parquet/",
         0,
         1752756735000
        ],
        [
         "dbfs:/CDC_output/product_20250717_1253.parquet/",
         "product_20250717_1253.parquet/",
         0,
         1752756787000
        ],
        [
         "dbfs:/CDC_output/product_20250717_1254.parquet/",
         "product_20250717_1254.parquet/",
         0,
         1752756844000
        ],
        [
         "dbfs:/CDC_output/product_20250717_1256.parquet/",
         "product_20250717_1256.parquet/",
         0,
         1752756998000
        ],
        [
         "dbfs:/CDC_output/product_20250717_1556.parquet/",
         "product_20250717_1556.parquet/",
         0,
         1752767760000
        ],
        [
         "dbfs:/CDC_output/product_20250717_1604.parquet/",
         "product_20250717_1604.parquet/",
         0,
         1752768271000
        ],
        [
         "dbfs:/CDC_output/product_20250717_1605.parquet/",
         "product_20250717_1605.parquet/",
         0,
         1752768316000
        ],
        [
         "dbfs:/CDC_output/product_20250717_1650.parquet/",
         "product_20250717_1650.parquet/",
         0,
         1752771009000
        ],
        [
         "dbfs:/CDC_output/product_20250717_1727.parquet/",
         "product_20250717_1727.parquet/",
         0,
         1752773253000
        ],
        [
         "dbfs:/CDC_output/product_20250717_<time>.parquet/",
         "product_20250717_<time>.parquet/",
         0,
         1752751738000
        ]
       ],
       "datasetInfos": [],
       "dbfsResultPath": null,
       "isJsonSchema": true,
       "metadata": {},
       "overflow": false,
       "plotOptions": {
        "customPlotOptions": {},
        "displayType": "table",
        "pivotAggregation": null,
        "pivotColumns": null,
        "xColumns": null,
        "yColumns": null
       },
       "removedWidgets": [],
       "schema": [
        {
         "metadata": "{}",
         "name": "path",
         "type": "\"string\""
        },
        {
         "metadata": "{}",
         "name": "name",
         "type": "\"string\""
        },
        {
         "metadata": "{}",
         "name": "size",
         "type": "\"long\""
        },
        {
         "metadata": "{}",
         "name": "modificationTime",
         "type": "\"long\""
        }
       ],
       "type": "table"
      }
     },
     "output_type": "display_data"
    }
   ],
   "source": [
    "display(dbutils.fs.ls(\"dbfs:/CDC_output/\"))"
   ]
  },
  {
   "cell_type": "code",
   "execution_count": 0,
   "metadata": {
    "application/vnd.databricks.v1+cell": {
     "cellMetadata": {
      "byteLimit": 2048000,
      "rowLimit": 10000
     },
     "inputWidgets": {},
     "nuid": "8fe9e808-aab2-49e5-8353-c7cba9eced5e",
     "showTitle": false,
     "tableResultSettingsMap": {},
     "title": ""
    }
   },
   "outputs": [
    {
     "output_type": "display_data",
     "data": {
      "text/html": [
       "<style scoped>\n",
       "  .ansiout {\n",
       "    display: block;\n",
       "    unicode-bidi: embed;\n",
       "    white-space: pre-wrap;\n",
       "    word-wrap: break-word;\n",
       "    word-break: break-all;\n",
       "    font-family: \"Menlo\", \"Monaco\", \"Consolas\", \"Ubuntu Mono\", \"Source Code Pro\", monospace;\n",
       "    font-size: 13px;\n",
       "    color: #555;\n",
       "    margin-left: 4px;\n",
       "    line-height: 19px;\n",
       "  }\n",
       "</style>\n",
       "<div class=\"ansiout\">Customer row count: 2\n",
       "+----------+------------+-------+-----------------+-----------+-------------------+--------------------+\n",
       "CustomerID|        Name|Address|            Email|PhoneNumber|          CreatedAt|           UpdatedAt|\n",
       "+----------+------------+-------+-----------------+-----------+-------------------+--------------------+\n",
       "         1|  Amit Singh|  Delhi| amit@example.com| 9876543210|2025-07-17 10:00:00|2025-07-17 11:31:...|\n",
       "         2|Priya Sharma| Mumbai|priya@example.com| 9123456789|2025-07-17 10:00:00|2025-07-17 11:31:...|\n",
       "+----------+------------+-------+-----------------+-----------+-------------------+--------------------+\n",
       "\n",
       "✅ CDC Customer count: 2\n",
       "✅ CDC Customer data written to dbfs:/CDC_output/customer_20250717_1728.parquet\n",
       "</div>"
      ]
     },
     "metadata": {
      "application/vnd.databricks.v1+output": {
       "addedWidgets": {},
       "arguments": {},
       "data": "<div class=\"ansiout\">Customer row count: 2\n+----------+------------+-------+-----------------+-----------+-------------------+--------------------+\n|CustomerID|        Name|Address|            Email|PhoneNumber|          CreatedAt|           UpdatedAt|\n+----------+------------+-------+-----------------+-----------+-------------------+--------------------+\n|         1|  Amit Singh|  Delhi| amit@example.com| 9876543210|2025-07-17 10:00:00|2025-07-17 11:31:...|\n|         2|Priya Sharma| Mumbai|priya@example.com| 9123456789|2025-07-17 10:00:00|2025-07-17 11:31:...|\n+----------+------------+-------+-----------------+-----------+-------------------+--------------------+\n\n✅ CDC Customer count: 2\n✅ CDC Customer data written to dbfs:/CDC_output/customer_20250717_1728.parquet\n</div>",
       "datasetInfos": [],
       "metadata": {},
       "removedWidgets": [],
       "type": "html"
      }
     },
     "output_type": "display_data"
    }
   ],
   "source": [
    "from pyspark.sql.functions import col\n",
    "from datetime import datetime\n",
    "\n",
    "table_name = \"Customer\"\n",
    "output_file_prefix = \"customer\"\n",
    "date_column_candidates = [\"CreatedAt\", \"UpdatedAt\"]\n",
    "\n",
    "df = spark.read.format(\"jdbc\") \\\n",
    "    .option(\"url\", jdbc_url) \\\n",
    "    .option(\"dbtable\", f\"[dbo].[{table_name}]\") \\\n",
    "    .option(\"user\", jdbc_properties[\"user\"]) \\\n",
    "    .option(\"password\", jdbc_properties[\"password\"]) \\\n",
    "    .option(\"driver\", jdbc_properties[\"driver\"]) \\\n",
    "    .load()\n",
    "\n",
    "print(f\"{table_name} row count:\", df.count())\n",
    "df.show()\n",
    "\n",
    "valid_column = None\n",
    "for col_candidate in date_column_candidates:\n",
    "    if col_candidate in df.columns:\n",
    "        valid_column = col_candidate\n",
    "        break\n",
    "\n",
    "if valid_column:\n",
    "    df_cdc = df.filter(col(valid_column) >= \"2025-07-16\")\n",
    "    print(f\"✅ CDC {table_name} count:\", df_cdc.count())\n",
    "\n",
    "    timestamp = datetime.now().strftime(\"%H%M\")\n",
    "    output_path = f\"dbfs:/CDC_output/{output_file_prefix}_20250717_{timestamp}.parquet\"\n",
    "    df_cdc.write.mode(\"overwrite\").parquet(output_path)\n",
    "    print(f\"✅ CDC {table_name} data written to {output_path}\")\n",
    "else:\n",
    "    print(f\"❌ No valid CDC column found in {table_name} table.\")"
   ]
  },
  {
   "cell_type": "code",
   "execution_count": 0,
   "metadata": {
    "application/vnd.databricks.v1+cell": {
     "cellMetadata": {
      "byteLimit": 2048000,
      "rowLimit": 10000
     },
     "inputWidgets": {},
     "nuid": "3995f8cb-25ad-4458-919d-8c00432909ab",
     "showTitle": false,
     "tableResultSettingsMap": {},
     "title": ""
    }
   },
   "outputs": [
    {
     "output_type": "display_data",
     "data": {
      "text/html": [
       "<style scoped>\n",
       "  .ansiout {\n",
       "    display: block;\n",
       "    unicode-bidi: embed;\n",
       "    white-space: pre-wrap;\n",
       "    word-wrap: break-word;\n",
       "    word-break: break-all;\n",
       "    font-family: \"Menlo\", \"Monaco\", \"Consolas\", \"Ubuntu Mono\", \"Source Code Pro\", monospace;\n",
       "    font-size: 13px;\n",
       "    color: #555;\n",
       "    margin-left: 4px;\n",
       "    line-height: 19px;\n",
       "  }\n",
       "</style>\n",
       "<div class=\"ansiout\">Product row count: 2\n",
       "+---------+--------+-----------------+------+-------------+-------------------+-------------------+\n",
       "ProductID|    Name|      Description| Price|     Category|          UpdatedAt|          CreatedAt|\n",
       "+---------+--------+-----------------+------+-------------+-------------------+-------------------+\n",
       "        1| Shampoo|   Herbal shampoo|120.00|Personal Care|2025-07-17 10:00:00|2025-07-17 10:00:00|\n",
       "        2|Notebook|A5 ruled notebook| 45.00|   Stationery|2025-07-17 10:00:00|2025-07-17 10:00:00|\n",
       "+---------+--------+-----------------+------+-------------+-------------------+-------------------+\n",
       "\n",
       "✅ CDC Product count: 2\n",
       "✅ CDC Product data written to dbfs:/CDC_output/product_20250717_1728.parquet\n",
       "</div>"
      ]
     },
     "metadata": {
      "application/vnd.databricks.v1+output": {
       "addedWidgets": {},
       "arguments": {},
       "data": "<div class=\"ansiout\">Product row count: 2\n+---------+--------+-----------------+------+-------------+-------------------+-------------------+\n|ProductID|    Name|      Description| Price|     Category|          UpdatedAt|          CreatedAt|\n+---------+--------+-----------------+------+-------------+-------------------+-------------------+\n|        1| Shampoo|   Herbal shampoo|120.00|Personal Care|2025-07-17 10:00:00|2025-07-17 10:00:00|\n|        2|Notebook|A5 ruled notebook| 45.00|   Stationery|2025-07-17 10:00:00|2025-07-17 10:00:00|\n+---------+--------+-----------------+------+-------------+-------------------+-------------------+\n\n✅ CDC Product count: 2\n✅ CDC Product data written to dbfs:/CDC_output/product_20250717_1728.parquet\n</div>",
       "datasetInfos": [],
       "metadata": {},
       "removedWidgets": [],
       "type": "html"
      }
     },
     "output_type": "display_data"
    }
   ],
   "source": [
    "table_name = \"Product\"\n",
    "output_file_prefix = \"product\"\n",
    "date_column_candidates = [\"CreatedAt\", \"UpdatedAt\"]\n",
    "df = spark.read.format(\"jdbc\") \\\n",
    "    .option(\"url\", jdbc_url) \\\n",
    "    .option(\"dbtable\", f\"[dbo].[{table_name}]\") \\\n",
    "    .option(\"user\", jdbc_properties[\"user\"]) \\\n",
    "    .option(\"password\", jdbc_properties[\"password\"]) \\\n",
    "    .option(\"driver\", jdbc_properties[\"driver\"]) \\\n",
    "    .load()\n",
    "\n",
    "print(f\"{table_name} row count:\", df.count())\n",
    "df.show()\n",
    "\n",
    "valid_column = None\n",
    "for col_candidate in date_column_candidates:\n",
    "    if col_candidate in df.columns:\n",
    "        valid_column = col_candidate\n",
    "        break\n",
    "\n",
    "if valid_column:\n",
    "    df_cdc = df.filter(col(valid_column) >= \"2025-07-16\")\n",
    "    print(f\"✅ CDC {table_name} count:\", df_cdc.count())\n",
    "\n",
    "    timestamp = datetime.now().strftime(\"%H%M\")\n",
    "    output_path = f\"dbfs:/CDC_output/{output_file_prefix}_20250717_{timestamp}.parquet\"\n",
    "    df_cdc.write.mode(\"overwrite\").parquet(output_path)\n",
    "    print(f\"✅ CDC {table_name} data written to {output_path}\")\n",
    "else:\n",
    "    print(f\"❌ No valid CDC column found in {table_name} table.\")\n",
    "\n"
   ]
  },
  {
   "cell_type": "code",
   "execution_count": 0,
   "metadata": {
    "application/vnd.databricks.v1+cell": {
     "cellMetadata": {
      "byteLimit": 2048000,
      "rowLimit": 10000
     },
     "inputWidgets": {},
     "nuid": "49768008-656d-46c6-aa15-e8441d393e5c",
     "showTitle": false,
     "tableResultSettingsMap": {},
     "title": ""
    }
   },
   "outputs": [
    {
     "output_type": "display_data",
     "data": {
      "text/html": [
       "<style scoped>\n",
       "  .ansiout {\n",
       "    display: block;\n",
       "    unicode-bidi: embed;\n",
       "    white-space: pre-wrap;\n",
       "    word-wrap: break-word;\n",
       "    word-break: break-all;\n",
       "    font-family: \"Menlo\", \"Monaco\", \"Consolas\", \"Ubuntu Mono\", \"Source Code Pro\", monospace;\n",
       "    font-size: 13px;\n",
       "    color: #555;\n",
       "    margin-left: 4px;\n",
       "    line-height: 19px;\n",
       "  }\n",
       "</style>\n",
       "<div class=\"ansiout\">+---------+--------+-----------------+------+-------------+-------------------+-------------------+\n",
       "ProductID|    Name|      Description| Price|     Category|          UpdatedAt|          CreatedAt|\n",
       "+---------+--------+-----------------+------+-------------+-------------------+-------------------+\n",
       "        1| Shampoo|   Herbal shampoo|120.00|Personal Care|2025-07-17 10:00:00|2025-07-17 10:00:00|\n",
       "        2|Notebook|A5 ruled notebook| 45.00|   Stationery|2025-07-17 10:00:00|2025-07-17 10:00:00|\n",
       "+---------+--------+-----------------+------+-------------+-------------------+-------------------+\n",
       "\n",
       "✅ CDC Product count: 2\n",
       "</div>"
      ]
     },
     "metadata": {
      "application/vnd.databricks.v1+output": {
       "addedWidgets": {},
       "arguments": {},
       "data": "<div class=\"ansiout\">+---------+--------+-----------------+------+-------------+-------------------+-------------------+\n|ProductID|    Name|      Description| Price|     Category|          UpdatedAt|          CreatedAt|\n+---------+--------+-----------------+------+-------------+-------------------+-------------------+\n|        1| Shampoo|   Herbal shampoo|120.00|Personal Care|2025-07-17 10:00:00|2025-07-17 10:00:00|\n|        2|Notebook|A5 ruled notebook| 45.00|   Stationery|2025-07-17 10:00:00|2025-07-17 10:00:00|\n+---------+--------+-----------------+------+-------------+-------------------+-------------------+\n\n✅ CDC Product count: 2\n</div>",
       "datasetInfos": [],
       "metadata": {},
       "removedWidgets": [],
       "type": "html"
      }
     },
     "output_type": "display_data"
    }
   ],
   "source": [
    "from pyspark.sql.functions import col\n",
    "from datetime import datetime\n",
    "\n",
    "# Read Product table\n",
    "df_product = spark.read.format(\"jdbc\") \\\n",
    "    .option(\"url\", jdbc_url) \\\n",
    "    .option(\"dbtable\", \"[dbo].[Product]\") \\\n",
    "    .option(\"user\", jdbc_properties[\"user\"]) \\\n",
    "    .option(\"password\", jdbc_properties[\"password\"]) \\\n",
    "    .option(\"driver\", jdbc_properties[\"driver\"]) \\\n",
    "    .load()\n",
    "\n",
    "# CDC filter using CreatedAt\n",
    "df_product_cdc = df_product.filter(col(\"CreatedAt\") >= \"2025-07-16\")\n",
    "\n",
    "# Show result (optional)\n",
    "df_product_cdc.show()\n",
    "\n",
    "# Save filtered CDC data\n",
    "output_path = \"dbfs:/CDC_output/product_\" + datetime.now().strftime(\"%Y%m%d_%H%M\") + \".parquet\"\n",
    "df_product_cdc.write.mode(\"overwrite\").parquet(output_path)\n",
    "\n",
    "print(f\"✅ CDC Product count: {df_product_cdc.count()}\")"
   ]
  },
  {
   "cell_type": "code",
   "execution_count": 0,
   "metadata": {
    "application/vnd.databricks.v1+cell": {
     "cellMetadata": {
      "byteLimit": 2048000,
      "rowLimit": 10000
     },
     "inputWidgets": {},
     "nuid": "efd2541d-cd1b-47d8-ba95-e51b21448d0d",
     "showTitle": false,
     "tableResultSettingsMap": {},
     "title": ""
    }
   },
   "outputs": [
    {
     "output_type": "display_data",
     "data": {
      "text/html": [
       "<style scoped>\n",
       "  .ansiout {\n",
       "    display: block;\n",
       "    unicode-bidi: embed;\n",
       "    white-space: pre-wrap;\n",
       "    word-wrap: break-word;\n",
       "    word-break: break-all;\n",
       "    font-family: \"Menlo\", \"Monaco\", \"Consolas\", \"Ubuntu Mono\", \"Source Code Pro\", monospace;\n",
       "    font-size: 13px;\n",
       "    color: #555;\n",
       "    margin-left: 4px;\n",
       "    line-height: 19px;\n",
       "  }\n",
       "</style>\n",
       "<div class=\"ansiout\">Inventory row count: 2\n",
       "+---------+--------+-----------+--------------------+\n",
       "ProductID|Quantity|   Location|           UpdatedAt|\n",
       "+---------+--------+-----------+--------------------+\n",
       "        1|      50|Warehouse A|2025-07-17 11:32:...|\n",
       "        2|     120|Warehouse B|2025-07-17 11:32:...|\n",
       "+---------+--------+-----------+--------------------+\n",
       "\n",
       "✅ CDC Inventory count: 2\n",
       "✅ CDC Inventory data written to dbfs:/CDC_output/inventory_20250717_1728.parquet\n",
       "</div>"
      ]
     },
     "metadata": {
      "application/vnd.databricks.v1+output": {
       "addedWidgets": {},
       "arguments": {},
       "data": "<div class=\"ansiout\">Inventory row count: 2\n+---------+--------+-----------+--------------------+\n|ProductID|Quantity|   Location|           UpdatedAt|\n+---------+--------+-----------+--------------------+\n|        1|      50|Warehouse A|2025-07-17 11:32:...|\n|        2|     120|Warehouse B|2025-07-17 11:32:...|\n+---------+--------+-----------+--------------------+\n\n✅ CDC Inventory count: 2\n✅ CDC Inventory data written to dbfs:/CDC_output/inventory_20250717_1728.parquet\n</div>",
       "datasetInfos": [],
       "metadata": {},
       "removedWidgets": [],
       "type": "html"
      }
     },
     "output_type": "display_data"
    }
   ],
   "source": [
    "table_name = \"Inventory\"\n",
    "output_file_prefix = \"inventory\"\n",
    "date_column_candidates = [\"UpdatedAt\"]\n",
    "df = spark.read.format(\"jdbc\") \\\n",
    "    .option(\"url\", jdbc_url) \\\n",
    "    .option(\"dbtable\", f\"[dbo].[{table_name}]\") \\\n",
    "    .option(\"user\", jdbc_properties[\"user\"]) \\\n",
    "    .option(\"password\", jdbc_properties[\"password\"]) \\\n",
    "    .option(\"driver\", jdbc_properties[\"driver\"]) \\\n",
    "    .load()\n",
    "\n",
    "print(f\"{table_name} row count:\", df.count())\n",
    "df.show()\n",
    "\n",
    "valid_column = None\n",
    "for col_candidate in date_column_candidates:\n",
    "    if col_candidate in df.columns:\n",
    "        valid_column = col_candidate\n",
    "        break\n",
    "\n",
    "if valid_column:\n",
    "    df_cdc = df.filter(col(valid_column) >= \"2025-07-16\")\n",
    "    print(f\"✅ CDC {table_name} count:\", df_cdc.count())\n",
    "\n",
    "    timestamp = datetime.now().strftime(\"%H%M\")\n",
    "    output_path = f\"dbfs:/CDC_output/{output_file_prefix}_20250717_{timestamp}.parquet\"\n",
    "    df_cdc.write.mode(\"overwrite\").parquet(output_path)\n",
    "    print(f\"✅ CDC {table_name} data written to {output_path}\")\n",
    "else:\n",
    "    print(f\"❌ No valid CDC column found in {table_name} table.\")\n",
    "\n",
    "# rest same as above"
   ]
  },
  {
   "cell_type": "code",
   "execution_count": 0,
   "metadata": {
    "application/vnd.databricks.v1+cell": {
     "cellMetadata": {
      "byteLimit": 2048000,
      "rowLimit": 10000
     },
     "inputWidgets": {},
     "nuid": "be341969-e0c0-4f49-a87e-1144000d18dd",
     "showTitle": false,
     "tableResultSettingsMap": {},
     "title": ""
    }
   },
   "outputs": [
    {
     "output_type": "display_data",
     "data": {
      "text/html": [
       "<style scoped>\n",
       "  .ansiout {\n",
       "    display: block;\n",
       "    unicode-bidi: embed;\n",
       "    white-space: pre-wrap;\n",
       "    word-wrap: break-word;\n",
       "    word-break: break-all;\n",
       "    font-family: \"Menlo\", \"Monaco\", \"Consolas\", \"Ubuntu Mono\", \"Source Code Pro\", monospace;\n",
       "    font-size: 13px;\n",
       "    color: #555;\n",
       "    margin-left: 4px;\n",
       "    line-height: 19px;\n",
       "  }\n",
       "</style>\n",
       "<div class=\"ansiout\">Order row count: 2\n",
       "+-------+----------+---------+--------+-------------------+-----------+\n",
       "OrderID|CustomerID|ProductID|Quantity|          OrderDate|TotalAmount|\n",
       "+-------+----------+---------+--------+-------------------+-----------+\n",
       "      1|         1|        1|       2|2025-07-17 00:00:00|     240.00|\n",
       "      2|         2|        2|       5|2025-07-17 00:00:00|     225.00|\n",
       "+-------+----------+---------+--------+-------------------+-----------+\n",
       "\n",
       "✅ CDC Order count: 2\n",
       "✅ CDC Order data written to dbfs:/CDC_output/order_20250717_1728.parquet\n",
       "</div>"
      ]
     },
     "metadata": {
      "application/vnd.databricks.v1+output": {
       "addedWidgets": {},
       "arguments": {},
       "data": "<div class=\"ansiout\">Order row count: 2\n+-------+----------+---------+--------+-------------------+-----------+\n|OrderID|CustomerID|ProductID|Quantity|          OrderDate|TotalAmount|\n+-------+----------+---------+--------+-------------------+-----------+\n|      1|         1|        1|       2|2025-07-17 00:00:00|     240.00|\n|      2|         2|        2|       5|2025-07-17 00:00:00|     225.00|\n+-------+----------+---------+--------+-------------------+-----------+\n\n✅ CDC Order count: 2\n✅ CDC Order data written to dbfs:/CDC_output/order_20250717_1728.parquet\n</div>",
       "datasetInfos": [],
       "metadata": {},
       "removedWidgets": [],
       "type": "html"
      }
     },
     "output_type": "display_data"
    }
   ],
   "source": [
    "table_name = \"Order\"\n",
    "output_file_prefix = \"order\"\n",
    "date_column_candidates = [\"OrderDate\"]\n",
    "df = spark.read.format(\"jdbc\") \\\n",
    "    .option(\"url\", jdbc_url) \\\n",
    "    .option(\"dbtable\", f\"[dbo].[{table_name}]\") \\\n",
    "    .option(\"user\", jdbc_properties[\"user\"]) \\\n",
    "    .option(\"password\", jdbc_properties[\"password\"]) \\\n",
    "    .option(\"driver\", jdbc_properties[\"driver\"]) \\\n",
    "    .load()\n",
    "\n",
    "print(f\"{table_name} row count:\", df.count())\n",
    "df.show()\n",
    "\n",
    "valid_column = None\n",
    "for col_candidate in date_column_candidates:\n",
    "    if col_candidate in df.columns:\n",
    "        valid_column = col_candidate\n",
    "        break\n",
    "\n",
    "if valid_column:\n",
    "    df_cdc = df.filter(col(valid_column) >= \"2025-07-16\")\n",
    "    print(f\"✅ CDC {table_name} count:\", df_cdc.count())\n",
    "\n",
    "    timestamp = datetime.now().strftime(\"%H%M\")\n",
    "    output_path = f\"dbfs:/CDC_output/{output_file_prefix}_20250717_{timestamp}.parquet\"\n",
    "    df_cdc.write.mode(\"overwrite\").parquet(output_path)\n",
    "    print(f\"✅ CDC {table_name} data written to {output_path}\")\n",
    "else:\n",
    "    print(f\"❌ No valid CDC column found in {table_name} table.\")\n",
    "\n",
    "# rest same as above"
   ]
  },
  {
   "cell_type": "code",
   "execution_count": 0,
   "metadata": {
    "application/vnd.databricks.v1+cell": {
     "cellMetadata": {
      "byteLimit": 2048000,
      "rowLimit": 10000
     },
     "inputWidgets": {},
     "nuid": "a528fdba-6ad0-4d7b-ab7a-8ce567dc9797",
     "showTitle": false,
     "tableResultSettingsMap": {},
     "title": ""
    }
   },
   "outputs": [
    {
     "output_type": "display_data",
     "data": {
      "text/html": [
       "<style scoped>\n",
       "  .ansiout {\n",
       "    display: block;\n",
       "    unicode-bidi: embed;\n",
       "    white-space: pre-wrap;\n",
       "    word-wrap: break-word;\n",
       "    word-break: break-all;\n",
       "    font-family: \"Menlo\", \"Monaco\", \"Consolas\", \"Ubuntu Mono\", \"Source Code Pro\", monospace;\n",
       "    font-size: 13px;\n",
       "    color: #555;\n",
       "    margin-left: 4px;\n",
       "    line-height: 19px;\n",
       "  }\n",
       "</style>\n",
       "<div class=\"ansiout\"></div>"
      ]
     },
     "metadata": {
      "application/vnd.databricks.v1+output": {
       "addedWidgets": {},
       "arguments": {},
       "data": "<div class=\"ansiout\"></div>",
       "datasetInfos": [],
       "metadata": {},
       "removedWidgets": [],
       "type": "html"
      }
     },
     "output_type": "display_data"
    }
   ],
   "source": [
    "final_output_df.write.mode(\"overwrite\").option(\"header\", \"true\").csv(\"dbfs:/mnt/output/final_cdc/\")"
   ]
  }
 ],
 "metadata": {
  "application/vnd.databricks.v1+notebook": {
   "computePreferences": null,
   "dashboards": [],
   "environmentMetadata": {
    "base_environment": "",
    "environment_version": "2"
   },
   "inputWidgetPreferences": null,
   "language": "python",
   "notebookMetadata": {
    "pythonIndentUnit": 4
   },
   "notebookName": "cdc_etl_pipeline",
   "widgets": {}
  },
  "language_info": {
   "name": "python"
  }
 },
 "nbformat": 4,
 "nbformat_minor": 0
}